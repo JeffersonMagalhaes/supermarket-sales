{
 "cells": [
  {
   "cell_type": "markdown",
   "id": "40bed44f",
   "metadata": {},
   "source": [
    "# 0. Apoio"
   ]
  },
  {
   "cell_type": "markdown",
   "id": "e76b65ff",
   "metadata": {},
   "source": [
    "## 0.1. Bibliotecas"
   ]
  },
  {
   "cell_type": "code",
   "execution_count": 1,
   "id": "d0272524",
   "metadata": {},
   "outputs": [],
   "source": [
    "import pandas  as pd\n",
    "import numpy   as np\n",
    "import seaborn as sns\n",
    "\n",
    "from matplotlib  import pyplot           as plt\n",
    "from scipy.stats import chi2_contingency as chisq"
   ]
  },
  {
   "cell_type": "markdown",
   "id": "68ad1d47",
   "metadata": {},
   "source": [
    "## 0.2. Funções suporte"
   ]
  },
  {
   "cell_type": "code",
   "execution_count": 2,
   "id": "47783c01",
   "metadata": {},
   "outputs": [],
   "source": [
    "def tab_freq(data, var, ordem_var = False):    \n",
    "    #freq abs\n",
    "    data_summary = data.groupby(var).size().reset_index(name='freq_abs')\n",
    "    \n",
    "    #freq rel\n",
    "    data_summary[\"freq_rel\"] = (data.groupby(var).size().reset_index(name='counts')[\"counts\"]/len(data))\n",
    "\n",
    "    if ordem_var != False: \n",
    "        data_summary[\"order_var\"] = data_summary[var].map( ordem_var )\n",
    "        data_summary = data_summary.sort_values(\"order_var\").reset_index()\n",
    "    \n",
    "    \n",
    "    #freq acum\n",
    "    sum_acum = 0 \n",
    "    x1_sum_acum = []    \n",
    "    for i in list(range(len(data_summary))):\n",
    "             sum_acum = sum_acum + data_summary[\"freq_rel\"][i]\n",
    "             x1_sum_acum.append(sum_acum)\n",
    "\n",
    "    data_summary[\"freq_acum\"] = x1_sum_acum\n",
    "    \n",
    "    if ordem_var != False:\n",
    "        data_summary = data_summary[[var,'freq_abs',\"freq_rel\",\"freq_acum\"]]\n",
    "    \n",
    "    return data_summary\n",
    "\n",
    "def tab_res_qtd(num_attributes):\n",
    "    # Central Tendency - mean, meadina \n",
    "    ct1 = pd.DataFrame( num_attributes.apply( np.mean ) ).T\n",
    "    ct2 = pd.DataFrame( num_attributes.apply( np.median ) ).T\n",
    "\n",
    "    # dispersion - std, min, max, range, skew, kurtosis\n",
    "    d1 = pd.DataFrame( num_attributes.apply( np.std ) ).T \n",
    "    d2 = pd.DataFrame( num_attributes.apply( min ) ).T \n",
    "    d3 = pd.DataFrame( num_attributes.apply( max ) ).T \n",
    "    d4 = pd.DataFrame( num_attributes.apply( lambda x: x.max() - x.min() ) ).T \n",
    "    d5 = pd.DataFrame( num_attributes.apply( lambda x: x.skew() ) ).T \n",
    "    d6 = pd.DataFrame( num_attributes.apply( lambda x: x.kurtosis() ) ).T\n",
    "    d7 = pd.DataFrame( num_attributes.apply( lambda x: x.quantile(0.25) ) ).T\n",
    "    d8 = pd.DataFrame( num_attributes.apply( lambda x: x.quantile(0.75) ) ).T\n",
    "    \n",
    "    # concatenar\n",
    "    m = pd.concat( [d2, d3, d4, ct1, ct2, d1, d5, d6, d7, d8] ).T.reset_index()\n",
    "    m.columns = ['attributes', 'min', 'max', 'range', 'mean', 'median', 'std', 'skew', 'kurtosis', '1 quartil', '3 quartil']\n",
    "    m\n",
    "    \n",
    "    return m\n",
    "\n",
    "def tab_cont(data, var1, var2, ordem_var = False):\n",
    "    aux1 = data.groupby([var1,var2]).size().reset_index(name=\"freq\")\n",
    "    aux1[\"freq_rel\"] = aux1[\"freq\"]/len(data)\n",
    "    \n",
    "    if ordem_var != False: \n",
    "        aux1[\"order_var\"] = aux1[var2].map( ordem_var )\n",
    "        aux1 = aux1.sort_values(\"order_var\").reset_index()\n",
    "        aux1 = aux1.drop(columns=[\"order_var\"])\n",
    "    \n",
    "    aux2 = aux1.pivot(index=var1, columns=var2, values=\"freq\")\n",
    "    aux3 = aux1.pivot(index=var1, columns=var2, values=\"freq_rel\")\n",
    "    \n",
    "    aux3.columns = aux3.columns + \"_perc\"\n",
    "    \n",
    "    aux = pd.concat([aux2, aux3], axis = 1)\n",
    "    \n",
    "    return aux\n",
    "\n",
    "def qui_quadrado(data, var1, var2):\n",
    "    obs_df = data.groupby([var1,var2]).size().reset_index(name=\"freq\")    \n",
    "    obs_df = obs_df.pivot(index=var1, columns=var2, values=\"freq\")\n",
    "    obs_df = np.matrix(obs_df)\n",
    "    \n",
    "    exp_var1 = data.groupby([var1]).size().reset_index(name=\"freq1\")\n",
    "    exp_var2 = data.groupby([var2]).size().reset_index(name=\"freq2\")\n",
    "    exp_var2[\"freq2\"] = exp_var2[\"freq2\"] / len(data)\n",
    "    \n",
    "    exp_var1 = np.matrix(exp_var1[\"freq1\"])\n",
    "    exp_var2 = np.matrix(exp_var2[\"freq2\"])\n",
    "    \n",
    "    exp_tab = np.matmul(exp_var1.T,exp_var2)\n",
    "    \n",
    "    chisq_res = chisq(obs_df, exp_tab)\n",
    "    \n",
    "    return chisq_res[0]\n",
    "\n",
    "def info_value(data,var1,var2, ordem_var = False):\n",
    "    aux = tab_cont(data,var1,var2, ordem_var = ordem_var)\n",
    "    aux.columns = ['nao','sim','nao_perc','sim_perc']\n",
    "    aux = aux[['nao','sim']]\n",
    "    aux['nao_perc'] = aux['nao']/ aux['nao'].sum()\n",
    "    aux['sim_perc'] = aux['sim']/ aux['sim'].sum()\n",
    "    aux['freq'] = aux['nao'] + aux['sim']\n",
    "    aux['tx_sim'] = aux['sim']/aux['freq']\n",
    "    aux['odds'] = aux['sim_perc']/aux['nao_perc']\n",
    "    aux['ln_odds'] = np.log( aux['odds'] )\n",
    "    aux['info_value'] = (aux['sim_perc'] - aux['nao_perc'])*aux['ln_odds']\n",
    "    info_value = aux['info_value'].sum()\n",
    "    \n",
    "    return [info_value, aux]\n",
    "\n",
    "def r_quad(data,var1,var2):\n",
    "    var_tab = data.groupby(var1)[var2].agg('var').reset_index(name = var2)\n",
    "    var_tab[\"freq\"] = data.groupby(var1).size().reset_index(name = \"Freq\")[\"Freq\"]\n",
    "    var_tab[\"freq_rel\"] = var_tab[\"freq\"]/len(data[var1])\n",
    "    var_pond = (var_tab[\"freq_rel\"]*var_tab[var2]).reset_index(name = \"var_pond\")[\"var_pond\"].sum()\n",
    "    var_geral = data[var2].var()\n",
    "    r_quad = 1 - var_pond/var_geral\n",
    "    return r_quad\n",
    "\n",
    "def plot_classe(data,var1,var2,classe):\n",
    "    aux1 = data[(data[var2] == classe)]\n",
    "    tamanho = len(aux1)\n",
    "    aux1 = aux1.groupby(var1).size().reset_index(name = \"freq\")\n",
    "    aux1[\"freq_rel\"] = aux1[\"freq\"]/tamanho\n",
    "    aux1 = aux1.set_index(var1)\n",
    "    plot = aux1.plot.pie(y = \"freq_rel\")\n",
    "    return plot"
   ]
  },
  {
   "cell_type": "markdown",
   "id": "0e00b06b",
   "metadata": {},
   "source": [
    "# 1. Entendimento do negócio\n",
    "\n",
    "## 1.1. Objetivo\n",
    "* Reduzir o Turnover\n",
    "\n",
    "## 1.2. Premissas\n",
    "\n",
    "* O Turnover (rotatividade de funcionários) é um grande problema para as empresas. \n",
    "* Sempre que um funcionário deixa um determinado trabalho, a empresa perde dinheiro e tempo com novas entrevistas e treinamentos do novo funcionário.\n",
    "* Isso sem falar da perda de produtividade do setor afetado por esse turnover. \n",
    "* empresa de Tecnologia, \n",
    "* o RH desta empresa catalogou informações de 1470 funcionários que deixaram ou permaneceram na companhia no último ano.\n",
    "\n",
    "## 1.3. Risco envolvido\n",
    "* Não diminuir o turnover\n",
    "* Variaveis na base de dados não são suficientes para explicar o fenomeno\n",
    "* Aumentar custos\n",
    "\n",
    "\n",
    "## 1.4. Custos\n",
    "* Trabalho Analista de dados\n",
    "* Sempre que um funcionário deixa um determinado trabalho, a empresa perde dinheiro e tempo com novas entrevistas e treinamentos do novo funcionário\n",
    "\n",
    "## 1.5. Critérios de sucesso\n",
    "* Diminuir o turnover\n",
    "* Não aumentar custos\n",
    "* Não aumentar drasticamente o quadro de funcionários\n",
    "* Concluir análise até dia 12/09\n",
    "\n",
    "\n",
    "## 1.6. Planejamento\n",
    "* Metodologia CRISP-DM\n",
    "* Sprints semanais\n",
    "* Entrega final 12/09/2021"
   ]
  },
  {
   "cell_type": "markdown",
   "id": "7656c8ab",
   "metadata": {},
   "source": [
    "# 2. Entendimento dos dados"
   ]
  },
  {
   "cell_type": "markdown",
   "id": "06335d1b",
   "metadata": {},
   "source": [
    "## 2.1. Importando dados"
   ]
  },
  {
   "cell_type": "code",
   "execution_count": 3,
   "id": "3b8a3612",
   "metadata": {},
   "outputs": [],
   "source": [
    "data = pd.read_excel(\"../dados/base_rh.xlsx\", sheet_name = \"Base\")"
   ]
  },
  {
   "cell_type": "code",
   "execution_count": 4,
   "id": "da6cab7a",
   "metadata": {},
   "outputs": [
    {
     "data": {
      "text/html": [
       "<div>\n",
       "<style scoped>\n",
       "    .dataframe tbody tr th:only-of-type {\n",
       "        vertical-align: middle;\n",
       "    }\n",
       "\n",
       "    .dataframe tbody tr th {\n",
       "        vertical-align: top;\n",
       "    }\n",
       "\n",
       "    .dataframe thead th {\n",
       "        text-align: right;\n",
       "    }\n",
       "</style>\n",
       "<table border=\"1\" class=\"dataframe\">\n",
       "  <thead>\n",
       "    <tr style=\"text-align: right;\">\n",
       "      <th></th>\n",
       "      <th>ID</th>\n",
       "      <th>Funcionário_deixou_a_empresa</th>\n",
       "      <th>Idade</th>\n",
       "      <th>Frequência de Viagens</th>\n",
       "      <th>Distância_do_trabalho</th>\n",
       "      <th>Formação</th>\n",
       "      <th>E-Sat</th>\n",
       "      <th>Gênero</th>\n",
       "      <th>Estado_Civil</th>\n",
       "      <th>Salário</th>\n",
       "      <th>Faz_hora_extras?</th>\n",
       "      <th>Tempo_de_empresa</th>\n",
       "    </tr>\n",
       "  </thead>\n",
       "  <tbody>\n",
       "    <tr>\n",
       "      <th>0</th>\n",
       "      <td>1</td>\n",
       "      <td>Sim</td>\n",
       "      <td>16</td>\n",
       "      <td>Viaja raramente</td>\n",
       "      <td>1</td>\n",
       "      <td>Ensino Técnico</td>\n",
       "      <td>Médio</td>\n",
       "      <td>M</td>\n",
       "      <td>Solteiro</td>\n",
       "      <td>5993</td>\n",
       "      <td>Sim</td>\n",
       "      <td>6</td>\n",
       "    </tr>\n",
       "    <tr>\n",
       "      <th>1</th>\n",
       "      <td>2</td>\n",
       "      <td>Não</td>\n",
       "      <td>49</td>\n",
       "      <td>Viaja frequentemente</td>\n",
       "      <td>8</td>\n",
       "      <td>Ensino Médio</td>\n",
       "      <td>Alto</td>\n",
       "      <td>H</td>\n",
       "      <td>Casado</td>\n",
       "      <td>5130</td>\n",
       "      <td>Não</td>\n",
       "      <td>10</td>\n",
       "    </tr>\n",
       "    <tr>\n",
       "      <th>2</th>\n",
       "      <td>3</td>\n",
       "      <td>Sim</td>\n",
       "      <td>28</td>\n",
       "      <td>Viaja raramente</td>\n",
       "      <td>2</td>\n",
       "      <td>Ensino Técnico</td>\n",
       "      <td>Muito Alto</td>\n",
       "      <td>H</td>\n",
       "      <td>Solteiro</td>\n",
       "      <td>2090</td>\n",
       "      <td>Sim</td>\n",
       "      <td>0</td>\n",
       "    </tr>\n",
       "    <tr>\n",
       "      <th>3</th>\n",
       "      <td>4</td>\n",
       "      <td>Não</td>\n",
       "      <td>33</td>\n",
       "      <td>Viaja frequentemente</td>\n",
       "      <td>3</td>\n",
       "      <td>Mestrado</td>\n",
       "      <td>Muito Alto</td>\n",
       "      <td>M</td>\n",
       "      <td>Casado</td>\n",
       "      <td>2909</td>\n",
       "      <td>Sim</td>\n",
       "      <td>8</td>\n",
       "    </tr>\n",
       "    <tr>\n",
       "      <th>4</th>\n",
       "      <td>5</td>\n",
       "      <td>Não</td>\n",
       "      <td>27</td>\n",
       "      <td>Viaja raramente</td>\n",
       "      <td>2</td>\n",
       "      <td>Ensino Médio</td>\n",
       "      <td>Baixo</td>\n",
       "      <td>H</td>\n",
       "      <td>Casado</td>\n",
       "      <td>3468</td>\n",
       "      <td>Não</td>\n",
       "      <td>2</td>\n",
       "    </tr>\n",
       "  </tbody>\n",
       "</table>\n",
       "</div>"
      ],
      "text/plain": [
       "   ID Funcionário_deixou_a_empresa  Idade Frequência de Viagens  \\\n",
       "0   1                          Sim     16       Viaja raramente   \n",
       "1   2                          Não     49  Viaja frequentemente   \n",
       "2   3                          Sim     28       Viaja raramente   \n",
       "3   4                          Não     33  Viaja frequentemente   \n",
       "4   5                          Não     27       Viaja raramente   \n",
       "\n",
       "   Distância_do_trabalho        Formação       E-Sat Gênero Estado_Civil  \\\n",
       "0                      1  Ensino Técnico       Médio      M     Solteiro   \n",
       "1                      8    Ensino Médio        Alto      H       Casado   \n",
       "2                      2  Ensino Técnico  Muito Alto      H     Solteiro   \n",
       "3                      3        Mestrado  Muito Alto      M       Casado   \n",
       "4                      2    Ensino Médio       Baixo      H       Casado   \n",
       "\n",
       "   Salário Faz_hora_extras?  Tempo_de_empresa  \n",
       "0     5993              Sim                 6  \n",
       "1     5130              Não                10  \n",
       "2     2090              Sim                 0  \n",
       "3     2909              Sim                 8  \n",
       "4     3468              Não                 2  "
      ]
     },
     "execution_count": 4,
     "metadata": {},
     "output_type": "execute_result"
    }
   ],
   "source": [
    "data.head()"
   ]
  },
  {
   "cell_type": "markdown",
   "id": "b3cb4d8f",
   "metadata": {},
   "source": [
    "## 2.2. Descrição dos dados"
   ]
  },
  {
   "cell_type": "code",
   "execution_count": 5,
   "id": "7bb34d45",
   "metadata": {},
   "outputs": [
    {
     "data": {
      "text/html": [
       "<div>\n",
       "<style scoped>\n",
       "    .dataframe tbody tr th:only-of-type {\n",
       "        vertical-align: middle;\n",
       "    }\n",
       "\n",
       "    .dataframe tbody tr th {\n",
       "        vertical-align: top;\n",
       "    }\n",
       "\n",
       "    .dataframe thead th {\n",
       "        text-align: right;\n",
       "    }\n",
       "</style>\n",
       "<table border=\"1\" class=\"dataframe\">\n",
       "  <thead>\n",
       "    <tr style=\"text-align: right;\">\n",
       "      <th></th>\n",
       "      <th>Variável</th>\n",
       "      <th>Descrição</th>\n",
       "    </tr>\n",
       "  </thead>\n",
       "  <tbody>\n",
       "    <tr>\n",
       "      <th>0</th>\n",
       "      <td>ID</td>\n",
       "      <td>Matrícula do funcionário</td>\n",
       "    </tr>\n",
       "    <tr>\n",
       "      <th>1</th>\n",
       "      <td>Funcionário_deixou_a_empresa</td>\n",
       "      <td>Marcação sem funcionário deixou a empresa rece...</td>\n",
       "    </tr>\n",
       "    <tr>\n",
       "      <th>2</th>\n",
       "      <td>Idade</td>\n",
       "      <td>Idade do funcionário</td>\n",
       "    </tr>\n",
       "    <tr>\n",
       "      <th>3</th>\n",
       "      <td>Frequência de Viagens</td>\n",
       "      <td>Frequência de viagens a trabalho do funcionário</td>\n",
       "    </tr>\n",
       "    <tr>\n",
       "      <th>4</th>\n",
       "      <td>Distância_do_trabalho</td>\n",
       "      <td>Distância em Km até o trabalho</td>\n",
       "    </tr>\n",
       "    <tr>\n",
       "      <th>5</th>\n",
       "      <td>Formação</td>\n",
       "      <td>Nível de formação</td>\n",
       "    </tr>\n",
       "    <tr>\n",
       "      <th>6</th>\n",
       "      <td>E-Sat</td>\n",
       "      <td>Satisfação com o clima organizacional</td>\n",
       "    </tr>\n",
       "    <tr>\n",
       "      <th>7</th>\n",
       "      <td>Gênero</td>\n",
       "      <td>Gênero do funcionário</td>\n",
       "    </tr>\n",
       "    <tr>\n",
       "      <th>8</th>\n",
       "      <td>Estado_Civil</td>\n",
       "      <td>Estado civil do funcionário</td>\n",
       "    </tr>\n",
       "    <tr>\n",
       "      <th>9</th>\n",
       "      <td>Salário</td>\n",
       "      <td>Salário mensal</td>\n",
       "    </tr>\n",
       "    <tr>\n",
       "      <th>10</th>\n",
       "      <td>Faz_hora_extras?</td>\n",
       "      <td>Se funcionário costuma fazer hora extra</td>\n",
       "    </tr>\n",
       "    <tr>\n",
       "      <th>11</th>\n",
       "      <td>Tempo_de_empresa</td>\n",
       "      <td>Tempo em anos que o funcionário trabalha na em...</td>\n",
       "    </tr>\n",
       "  </tbody>\n",
       "</table>\n",
       "</div>"
      ],
      "text/plain": [
       "                        Variável  \\\n",
       "0                             ID   \n",
       "1   Funcionário_deixou_a_empresa   \n",
       "2                          Idade   \n",
       "3          Frequência de Viagens   \n",
       "4          Distância_do_trabalho   \n",
       "5                       Formação   \n",
       "6                          E-Sat   \n",
       "7                         Gênero   \n",
       "8                   Estado_Civil   \n",
       "9                        Salário   \n",
       "10              Faz_hora_extras?   \n",
       "11              Tempo_de_empresa   \n",
       "\n",
       "                                            Descrição  \n",
       "0                            Matrícula do funcionário  \n",
       "1   Marcação sem funcionário deixou a empresa rece...  \n",
       "2                                Idade do funcionário  \n",
       "3     Frequência de viagens a trabalho do funcionário  \n",
       "4                      Distância em Km até o trabalho  \n",
       "5                                   Nível de formação  \n",
       "6               Satisfação com o clima organizacional  \n",
       "7                               Gênero do funcionário  \n",
       "8                         Estado civil do funcionário  \n",
       "9                                      Salário mensal  \n",
       "10            Se funcionário costuma fazer hora extra  \n",
       "11  Tempo em anos que o funcionário trabalha na em...  "
      ]
     },
     "execution_count": 5,
     "metadata": {},
     "output_type": "execute_result"
    }
   ],
   "source": [
    "metadata = pd.read_excel(\"../dados/base_rh.xlsx\", sheet_name = \"Metadados\")\n",
    "metadata = metadata[[\"Variável\",\"Descrição\"]]\n",
    "metadata"
   ]
  },
  {
   "cell_type": "markdown",
   "id": "e274797a",
   "metadata": {},
   "source": [
    "### 2.2.0. Renomear variáveis"
   ]
  },
  {
   "cell_type": "markdown",
   "id": "ec2e0293",
   "metadata": {},
   "source": [
    "### 2.2.1. Dimensão dos dados"
   ]
  },
  {
   "cell_type": "code",
   "execution_count": 6,
   "id": "64d77671",
   "metadata": {},
   "outputs": [
    {
     "data": {
      "text/plain": [
       "(1470, 12)"
      ]
     },
     "execution_count": 6,
     "metadata": {},
     "output_type": "execute_result"
    }
   ],
   "source": [
    "data.shape"
   ]
  },
  {
   "cell_type": "markdown",
   "id": "5bc624fc",
   "metadata": {},
   "source": [
    "### 2.2.2. Tipos de variáveis"
   ]
  },
  {
   "cell_type": "code",
   "execution_count": 7,
   "id": "074c5818",
   "metadata": {},
   "outputs": [
    {
     "data": {
      "text/plain": [
       "ID                               int64\n",
       "Funcionário_deixou_a_empresa    object\n",
       "Idade                            int64\n",
       "Frequência de Viagens           object\n",
       "Distância_do_trabalho            int64\n",
       "Formação                        object\n",
       "E-Sat                           object\n",
       "Gênero                          object\n",
       "Estado_Civil                    object\n",
       "Salário                          int64\n",
       "Faz_hora_extras?                object\n",
       "Tempo_de_empresa                 int64\n",
       "dtype: object"
      ]
     },
     "execution_count": 7,
     "metadata": {},
     "output_type": "execute_result"
    }
   ],
   "source": [
    "data.dtypes"
   ]
  },
  {
   "cell_type": "markdown",
   "id": "5787f2f0",
   "metadata": {},
   "source": [
    "### 2.2.3. Sanity Check"
   ]
  },
  {
   "cell_type": "markdown",
   "id": "a027eb60",
   "metadata": {},
   "source": [
    "#### 2.2.3.1. Check NA"
   ]
  },
  {
   "cell_type": "markdown",
   "id": "106d1b72",
   "metadata": {},
   "source": [
    "#### 2.2.3.2. Fillout NA"
   ]
  },
  {
   "cell_type": "markdown",
   "id": "b1de9c85",
   "metadata": {},
   "source": [
    "#### 2.2.3.3. Change Data Types"
   ]
  },
  {
   "cell_type": "markdown",
   "id": "03dc1105",
   "metadata": {},
   "source": [
    "## 2.3. Análise Exploratória"
   ]
  },
  {
   "cell_type": "markdown",
   "id": "4fa41e49",
   "metadata": {},
   "source": [
    "### 2.3.1. Análise Univariada"
   ]
  },
  {
   "cell_type": "markdown",
   "id": "41864bb7",
   "metadata": {},
   "source": [
    "#### 2.3.1.1. Variáveis qualitativas"
   ]
  },
  {
   "cell_type": "code",
   "execution_count": 8,
   "id": "e12bc263",
   "metadata": {},
   "outputs": [
    {
     "data": {
      "text/plain": [
       "['Funcionário_deixou_a_empresa',\n",
       " 'Frequência de Viagens',\n",
       " 'Formação',\n",
       " 'E-Sat',\n",
       " 'Gênero',\n",
       " 'Estado_Civil',\n",
       " 'Faz_hora_extras?']"
      ]
     },
     "execution_count": 8,
     "metadata": {},
     "output_type": "execute_result"
    }
   ],
   "source": [
    "[\"Funcionário_deixou_a_empresa\",\"Frequência de Viagens\",\"Formação\",\"E-Sat\",\"Gênero\",\"Estado_Civil\",\"Faz_hora_extras?\"]"
   ]
  },
  {
   "cell_type": "code",
   "execution_count": 9,
   "id": "13ab67e6",
   "metadata": {},
   "outputs": [
    {
     "data": {
      "text/html": [
       "<div>\n",
       "<style scoped>\n",
       "    .dataframe tbody tr th:only-of-type {\n",
       "        vertical-align: middle;\n",
       "    }\n",
       "\n",
       "    .dataframe tbody tr th {\n",
       "        vertical-align: top;\n",
       "    }\n",
       "\n",
       "    .dataframe thead th {\n",
       "        text-align: right;\n",
       "    }\n",
       "</style>\n",
       "<table border=\"1\" class=\"dataframe\">\n",
       "  <thead>\n",
       "    <tr style=\"text-align: right;\">\n",
       "      <th></th>\n",
       "      <th>Funcionário_deixou_a_empresa</th>\n",
       "      <th>freq_abs</th>\n",
       "      <th>freq_rel</th>\n",
       "      <th>freq_acum</th>\n",
       "    </tr>\n",
       "  </thead>\n",
       "  <tbody>\n",
       "    <tr>\n",
       "      <th>0</th>\n",
       "      <td>Não</td>\n",
       "      <td>1233</td>\n",
       "      <td>0.838776</td>\n",
       "      <td>0.838776</td>\n",
       "    </tr>\n",
       "    <tr>\n",
       "      <th>1</th>\n",
       "      <td>Sim</td>\n",
       "      <td>237</td>\n",
       "      <td>0.161224</td>\n",
       "      <td>1.000000</td>\n",
       "    </tr>\n",
       "  </tbody>\n",
       "</table>\n",
       "</div>"
      ],
      "text/plain": [
       "  Funcionário_deixou_a_empresa  freq_abs  freq_rel  freq_acum\n",
       "0                          Não      1233  0.838776   0.838776\n",
       "1                          Sim       237  0.161224   1.000000"
      ]
     },
     "execution_count": 9,
     "metadata": {},
     "output_type": "execute_result"
    }
   ],
   "source": [
    "#taxa de turnover \n",
    "tab_freq(data,\"Funcionário_deixou_a_empresa\")"
   ]
  },
  {
   "cell_type": "code",
   "execution_count": 10,
   "id": "e17b64ad",
   "metadata": {},
   "outputs": [
    {
     "data": {
      "text/html": [
       "<div>\n",
       "<style scoped>\n",
       "    .dataframe tbody tr th:only-of-type {\n",
       "        vertical-align: middle;\n",
       "    }\n",
       "\n",
       "    .dataframe tbody tr th {\n",
       "        vertical-align: top;\n",
       "    }\n",
       "\n",
       "    .dataframe thead th {\n",
       "        text-align: right;\n",
       "    }\n",
       "</style>\n",
       "<table border=\"1\" class=\"dataframe\">\n",
       "  <thead>\n",
       "    <tr style=\"text-align: right;\">\n",
       "      <th></th>\n",
       "      <th>Frequência de Viagens</th>\n",
       "      <th>freq_abs</th>\n",
       "      <th>freq_rel</th>\n",
       "      <th>freq_acum</th>\n",
       "    </tr>\n",
       "  </thead>\n",
       "  <tbody>\n",
       "    <tr>\n",
       "      <th>0</th>\n",
       "      <td>Não viaja</td>\n",
       "      <td>150</td>\n",
       "      <td>0.102041</td>\n",
       "      <td>0.102041</td>\n",
       "    </tr>\n",
       "    <tr>\n",
       "      <th>1</th>\n",
       "      <td>Viaja raramente</td>\n",
       "      <td>1043</td>\n",
       "      <td>0.709524</td>\n",
       "      <td>0.811565</td>\n",
       "    </tr>\n",
       "    <tr>\n",
       "      <th>2</th>\n",
       "      <td>Viaja frequentemente</td>\n",
       "      <td>277</td>\n",
       "      <td>0.188435</td>\n",
       "      <td>1.000000</td>\n",
       "    </tr>\n",
       "  </tbody>\n",
       "</table>\n",
       "</div>"
      ],
      "text/plain": [
       "  Frequência de Viagens  freq_abs  freq_rel  freq_acum\n",
       "0             Não viaja       150  0.102041   0.102041\n",
       "1       Viaja raramente      1043  0.709524   0.811565\n",
       "2  Viaja frequentemente       277  0.188435   1.000000"
      ]
     },
     "execution_count": 10,
     "metadata": {},
     "output_type": "execute_result"
    }
   ],
   "source": [
    "ordem_viagens = {\"Não viaja\":0, \"Viaja raramente\": 1, \"Viaja frequentemente\":2} \n",
    "tab_freq(data,\"Frequência de Viagens\", ordem_var = ordem_viagens)"
   ]
  },
  {
   "cell_type": "code",
   "execution_count": 11,
   "id": "2098bb7a",
   "metadata": {},
   "outputs": [
    {
     "data": {
      "text/html": [
       "<div>\n",
       "<style scoped>\n",
       "    .dataframe tbody tr th:only-of-type {\n",
       "        vertical-align: middle;\n",
       "    }\n",
       "\n",
       "    .dataframe tbody tr th {\n",
       "        vertical-align: top;\n",
       "    }\n",
       "\n",
       "    .dataframe thead th {\n",
       "        text-align: right;\n",
       "    }\n",
       "</style>\n",
       "<table border=\"1\" class=\"dataframe\">\n",
       "  <thead>\n",
       "    <tr style=\"text-align: right;\">\n",
       "      <th></th>\n",
       "      <th>Formação</th>\n",
       "      <th>freq_abs</th>\n",
       "      <th>freq_rel</th>\n",
       "      <th>freq_acum</th>\n",
       "    </tr>\n",
       "  </thead>\n",
       "  <tbody>\n",
       "    <tr>\n",
       "      <th>0</th>\n",
       "      <td>Ensino Médio</td>\n",
       "      <td>170</td>\n",
       "      <td>0.115646</td>\n",
       "      <td>0.115646</td>\n",
       "    </tr>\n",
       "    <tr>\n",
       "      <th>1</th>\n",
       "      <td>Ensino Técnico</td>\n",
       "      <td>282</td>\n",
       "      <td>0.191837</td>\n",
       "      <td>0.307483</td>\n",
       "    </tr>\n",
       "    <tr>\n",
       "      <th>2</th>\n",
       "      <td>Ensino Superior</td>\n",
       "      <td>572</td>\n",
       "      <td>0.389116</td>\n",
       "      <td>0.696599</td>\n",
       "    </tr>\n",
       "    <tr>\n",
       "      <th>3</th>\n",
       "      <td>Mestrado</td>\n",
       "      <td>398</td>\n",
       "      <td>0.270748</td>\n",
       "      <td>0.967347</td>\n",
       "    </tr>\n",
       "    <tr>\n",
       "      <th>4</th>\n",
       "      <td>Doutorado</td>\n",
       "      <td>48</td>\n",
       "      <td>0.032653</td>\n",
       "      <td>1.000000</td>\n",
       "    </tr>\n",
       "  </tbody>\n",
       "</table>\n",
       "</div>"
      ],
      "text/plain": [
       "          Formação  freq_abs  freq_rel  freq_acum\n",
       "0     Ensino Médio       170  0.115646   0.115646\n",
       "1   Ensino Técnico       282  0.191837   0.307483\n",
       "2  Ensino Superior       572  0.389116   0.696599\n",
       "3         Mestrado       398  0.270748   0.967347\n",
       "4        Doutorado        48  0.032653   1.000000"
      ]
     },
     "execution_count": 11,
     "metadata": {},
     "output_type": "execute_result"
    }
   ],
   "source": [
    "ordem_formacao = {\"Ensino Médio\":0, \"Ensino Técnico\": 1, \"Ensino Superior\":2, \"Mestrado\":3, \"Doutorado\":4} \n",
    "tab_freq(data,\"Formação\",ordem_var = ordem_formacao)"
   ]
  },
  {
   "cell_type": "code",
   "execution_count": 12,
   "id": "635b69dc",
   "metadata": {},
   "outputs": [
    {
     "data": {
      "text/html": [
       "<div>\n",
       "<style scoped>\n",
       "    .dataframe tbody tr th:only-of-type {\n",
       "        vertical-align: middle;\n",
       "    }\n",
       "\n",
       "    .dataframe tbody tr th {\n",
       "        vertical-align: top;\n",
       "    }\n",
       "\n",
       "    .dataframe thead th {\n",
       "        text-align: right;\n",
       "    }\n",
       "</style>\n",
       "<table border=\"1\" class=\"dataframe\">\n",
       "  <thead>\n",
       "    <tr style=\"text-align: right;\">\n",
       "      <th></th>\n",
       "      <th>E-Sat</th>\n",
       "      <th>freq_abs</th>\n",
       "      <th>freq_rel</th>\n",
       "      <th>freq_acum</th>\n",
       "    </tr>\n",
       "  </thead>\n",
       "  <tbody>\n",
       "    <tr>\n",
       "      <th>0</th>\n",
       "      <td>Baixo</td>\n",
       "      <td>284</td>\n",
       "      <td>0.193197</td>\n",
       "      <td>0.193197</td>\n",
       "    </tr>\n",
       "    <tr>\n",
       "      <th>1</th>\n",
       "      <td>Médio</td>\n",
       "      <td>287</td>\n",
       "      <td>0.195238</td>\n",
       "      <td>0.388435</td>\n",
       "    </tr>\n",
       "    <tr>\n",
       "      <th>2</th>\n",
       "      <td>Alto</td>\n",
       "      <td>453</td>\n",
       "      <td>0.308163</td>\n",
       "      <td>0.696599</td>\n",
       "    </tr>\n",
       "    <tr>\n",
       "      <th>3</th>\n",
       "      <td>Muito Alto</td>\n",
       "      <td>446</td>\n",
       "      <td>0.303401</td>\n",
       "      <td>1.000000</td>\n",
       "    </tr>\n",
       "  </tbody>\n",
       "</table>\n",
       "</div>"
      ],
      "text/plain": [
       "        E-Sat  freq_abs  freq_rel  freq_acum\n",
       "0       Baixo       284  0.193197   0.193197\n",
       "1       Médio       287  0.195238   0.388435\n",
       "2        Alto       453  0.308163   0.696599\n",
       "3  Muito Alto       446  0.303401   1.000000"
      ]
     },
     "execution_count": 12,
     "metadata": {},
     "output_type": "execute_result"
    }
   ],
   "source": [
    "ordem_esat = {\"Baixo\":0, \"Médio\": 1, \"Alto\":2, \"Muito Alto\":3} \n",
    "tab_freq(data,\"E-Sat\", ordem_var = ordem_esat)"
   ]
  },
  {
   "cell_type": "code",
   "execution_count": 13,
   "id": "7877f25f",
   "metadata": {},
   "outputs": [
    {
     "data": {
      "text/html": [
       "<div>\n",
       "<style scoped>\n",
       "    .dataframe tbody tr th:only-of-type {\n",
       "        vertical-align: middle;\n",
       "    }\n",
       "\n",
       "    .dataframe tbody tr th {\n",
       "        vertical-align: top;\n",
       "    }\n",
       "\n",
       "    .dataframe thead th {\n",
       "        text-align: right;\n",
       "    }\n",
       "</style>\n",
       "<table border=\"1\" class=\"dataframe\">\n",
       "  <thead>\n",
       "    <tr style=\"text-align: right;\">\n",
       "      <th></th>\n",
       "      <th>Gênero</th>\n",
       "      <th>freq_abs</th>\n",
       "      <th>freq_rel</th>\n",
       "      <th>freq_acum</th>\n",
       "    </tr>\n",
       "  </thead>\n",
       "  <tbody>\n",
       "    <tr>\n",
       "      <th>0</th>\n",
       "      <td>H</td>\n",
       "      <td>882</td>\n",
       "      <td>0.6</td>\n",
       "      <td>0.6</td>\n",
       "    </tr>\n",
       "    <tr>\n",
       "      <th>1</th>\n",
       "      <td>M</td>\n",
       "      <td>588</td>\n",
       "      <td>0.4</td>\n",
       "      <td>1.0</td>\n",
       "    </tr>\n",
       "  </tbody>\n",
       "</table>\n",
       "</div>"
      ],
      "text/plain": [
       "  Gênero  freq_abs  freq_rel  freq_acum\n",
       "0      H       882       0.6        0.6\n",
       "1      M       588       0.4        1.0"
      ]
     },
     "execution_count": 13,
     "metadata": {},
     "output_type": "execute_result"
    }
   ],
   "source": [
    "tab_freq(data,\"Gênero\")"
   ]
  },
  {
   "cell_type": "code",
   "execution_count": 14,
   "id": "add1ab53",
   "metadata": {},
   "outputs": [
    {
     "data": {
      "text/html": [
       "<div>\n",
       "<style scoped>\n",
       "    .dataframe tbody tr th:only-of-type {\n",
       "        vertical-align: middle;\n",
       "    }\n",
       "\n",
       "    .dataframe tbody tr th {\n",
       "        vertical-align: top;\n",
       "    }\n",
       "\n",
       "    .dataframe thead th {\n",
       "        text-align: right;\n",
       "    }\n",
       "</style>\n",
       "<table border=\"1\" class=\"dataframe\">\n",
       "  <thead>\n",
       "    <tr style=\"text-align: right;\">\n",
       "      <th></th>\n",
       "      <th>Estado_Civil</th>\n",
       "      <th>freq_abs</th>\n",
       "      <th>freq_rel</th>\n",
       "      <th>freq_acum</th>\n",
       "    </tr>\n",
       "  </thead>\n",
       "  <tbody>\n",
       "    <tr>\n",
       "      <th>0</th>\n",
       "      <td>Casado</td>\n",
       "      <td>673</td>\n",
       "      <td>0.457823</td>\n",
       "      <td>0.457823</td>\n",
       "    </tr>\n",
       "    <tr>\n",
       "      <th>1</th>\n",
       "      <td>Divorciado</td>\n",
       "      <td>327</td>\n",
       "      <td>0.222449</td>\n",
       "      <td>0.680272</td>\n",
       "    </tr>\n",
       "    <tr>\n",
       "      <th>2</th>\n",
       "      <td>Solteiro</td>\n",
       "      <td>470</td>\n",
       "      <td>0.319728</td>\n",
       "      <td>1.000000</td>\n",
       "    </tr>\n",
       "  </tbody>\n",
       "</table>\n",
       "</div>"
      ],
      "text/plain": [
       "  Estado_Civil  freq_abs  freq_rel  freq_acum\n",
       "0       Casado       673  0.457823   0.457823\n",
       "1   Divorciado       327  0.222449   0.680272\n",
       "2     Solteiro       470  0.319728   1.000000"
      ]
     },
     "execution_count": 14,
     "metadata": {},
     "output_type": "execute_result"
    }
   ],
   "source": [
    "tab_freq(data,\"Estado_Civil\")"
   ]
  },
  {
   "cell_type": "code",
   "execution_count": 15,
   "id": "3c31e961",
   "metadata": {},
   "outputs": [
    {
     "data": {
      "text/html": [
       "<div>\n",
       "<style scoped>\n",
       "    .dataframe tbody tr th:only-of-type {\n",
       "        vertical-align: middle;\n",
       "    }\n",
       "\n",
       "    .dataframe tbody tr th {\n",
       "        vertical-align: top;\n",
       "    }\n",
       "\n",
       "    .dataframe thead th {\n",
       "        text-align: right;\n",
       "    }\n",
       "</style>\n",
       "<table border=\"1\" class=\"dataframe\">\n",
       "  <thead>\n",
       "    <tr style=\"text-align: right;\">\n",
       "      <th></th>\n",
       "      <th>Faz_hora_extras?</th>\n",
       "      <th>freq_abs</th>\n",
       "      <th>freq_rel</th>\n",
       "      <th>freq_acum</th>\n",
       "    </tr>\n",
       "  </thead>\n",
       "  <tbody>\n",
       "    <tr>\n",
       "      <th>0</th>\n",
       "      <td>Não</td>\n",
       "      <td>1054</td>\n",
       "      <td>0.717007</td>\n",
       "      <td>0.717007</td>\n",
       "    </tr>\n",
       "    <tr>\n",
       "      <th>1</th>\n",
       "      <td>Sim</td>\n",
       "      <td>416</td>\n",
       "      <td>0.282993</td>\n",
       "      <td>1.000000</td>\n",
       "    </tr>\n",
       "  </tbody>\n",
       "</table>\n",
       "</div>"
      ],
      "text/plain": [
       "  Faz_hora_extras?  freq_abs  freq_rel  freq_acum\n",
       "0              Não      1054  0.717007   0.717007\n",
       "1              Sim       416  0.282993   1.000000"
      ]
     },
     "execution_count": 15,
     "metadata": {},
     "output_type": "execute_result"
    }
   ],
   "source": [
    "tab_freq(data,\"Faz_hora_extras?\")"
   ]
  },
  {
   "cell_type": "markdown",
   "id": "4212651d",
   "metadata": {},
   "source": [
    "#### 2.3.1.2. Variáveis quantitativas"
   ]
  },
  {
   "cell_type": "code",
   "execution_count": 16,
   "id": "cfdab5f9",
   "metadata": {},
   "outputs": [
    {
     "data": {
      "text/html": [
       "<div>\n",
       "<style scoped>\n",
       "    .dataframe tbody tr th:only-of-type {\n",
       "        vertical-align: middle;\n",
       "    }\n",
       "\n",
       "    .dataframe tbody tr th {\n",
       "        vertical-align: top;\n",
       "    }\n",
       "\n",
       "    .dataframe thead th {\n",
       "        text-align: right;\n",
       "    }\n",
       "</style>\n",
       "<table border=\"1\" class=\"dataframe\">\n",
       "  <thead>\n",
       "    <tr style=\"text-align: right;\">\n",
       "      <th></th>\n",
       "      <th>attributes</th>\n",
       "      <th>min</th>\n",
       "      <th>max</th>\n",
       "      <th>range</th>\n",
       "      <th>mean</th>\n",
       "      <th>median</th>\n",
       "      <th>std</th>\n",
       "      <th>skew</th>\n",
       "      <th>kurtosis</th>\n",
       "      <th>1 quartil</th>\n",
       "      <th>3 quartil</th>\n",
       "    </tr>\n",
       "  </thead>\n",
       "  <tbody>\n",
       "    <tr>\n",
       "      <th>0</th>\n",
       "      <td>Idade</td>\n",
       "      <td>9.0</td>\n",
       "      <td>60.0</td>\n",
       "      <td>51.0</td>\n",
       "      <td>36.026531</td>\n",
       "      <td>35.0</td>\n",
       "      <td>9.292084</td>\n",
       "      <td>0.345953</td>\n",
       "      <td>-0.225185</td>\n",
       "      <td>29.0</td>\n",
       "      <td>42.0</td>\n",
       "    </tr>\n",
       "    <tr>\n",
       "      <th>1</th>\n",
       "      <td>Distância_do_trabalho</td>\n",
       "      <td>1.0</td>\n",
       "      <td>29.0</td>\n",
       "      <td>28.0</td>\n",
       "      <td>9.192517</td>\n",
       "      <td>7.0</td>\n",
       "      <td>8.104107</td>\n",
       "      <td>0.958118</td>\n",
       "      <td>-0.224833</td>\n",
       "      <td>2.0</td>\n",
       "      <td>14.0</td>\n",
       "    </tr>\n",
       "    <tr>\n",
       "      <th>2</th>\n",
       "      <td>Salário</td>\n",
       "      <td>1009.0</td>\n",
       "      <td>19999.0</td>\n",
       "      <td>18990.0</td>\n",
       "      <td>6502.931293</td>\n",
       "      <td>4919.0</td>\n",
       "      <td>4706.355165</td>\n",
       "      <td>1.369817</td>\n",
       "      <td>1.005233</td>\n",
       "      <td>2911.0</td>\n",
       "      <td>8379.0</td>\n",
       "    </tr>\n",
       "    <tr>\n",
       "      <th>3</th>\n",
       "      <td>Tempo_de_empresa</td>\n",
       "      <td>0.0</td>\n",
       "      <td>40.0</td>\n",
       "      <td>40.0</td>\n",
       "      <td>7.008163</td>\n",
       "      <td>5.0</td>\n",
       "      <td>6.124441</td>\n",
       "      <td>1.764529</td>\n",
       "      <td>3.935509</td>\n",
       "      <td>3.0</td>\n",
       "      <td>9.0</td>\n",
       "    </tr>\n",
       "  </tbody>\n",
       "</table>\n",
       "</div>"
      ],
      "text/plain": [
       "              attributes     min      max    range         mean  median  \\\n",
       "0                  Idade     9.0     60.0     51.0    36.026531    35.0   \n",
       "1  Distância_do_trabalho     1.0     29.0     28.0     9.192517     7.0   \n",
       "2                Salário  1009.0  19999.0  18990.0  6502.931293  4919.0   \n",
       "3       Tempo_de_empresa     0.0     40.0     40.0     7.008163     5.0   \n",
       "\n",
       "           std      skew  kurtosis  1 quartil  3 quartil  \n",
       "0     9.292084  0.345953 -0.225185       29.0       42.0  \n",
       "1     8.104107  0.958118 -0.224833        2.0       14.0  \n",
       "2  4706.355165  1.369817  1.005233     2911.0     8379.0  \n",
       "3     6.124441  1.764529  3.935509        3.0        9.0  "
      ]
     },
     "execution_count": 16,
     "metadata": {},
     "output_type": "execute_result"
    }
   ],
   "source": [
    "num_data = data.select_dtypes( include=['int64', 'float64'] )\n",
    "num_data = num_data.drop( columns=['ID'] )\n",
    "\n",
    "tab_res_qtd(num_data)"
   ]
  },
  {
   "cell_type": "code",
   "execution_count": 17,
   "id": "1ad20729",
   "metadata": {},
   "outputs": [
    {
     "data": {
      "text/plain": [
       "<AxesSubplot:ylabel='Tempo_de_empresa'>"
      ]
     },
     "execution_count": 17,
     "metadata": {},
     "output_type": "execute_result"
    },
    {
     "data": {
      "image/png": "[encoded data removed]",
      "text/plain": [
       "<Figure size 432x288 with 4 Axes>"
      ]
     },
     "metadata": {
      "needs_background": "light"
     },
     "output_type": "display_data"
    }
   ],
   "source": [
    "plt.subplot( 2, 2, 1 )\n",
    "sns.boxplot( y='Idade', data=num_data )\n",
    "\n",
    "plt.subplot( 2, 2, 2 )\n",
    "sns.boxplot( y='Distância_do_trabalho', data=num_data )\n",
    "\n",
    "plt.subplot( 2, 2, 3 )\n",
    "sns.boxplot( y='Salário', data=num_data )\n",
    "\n",
    "plt.subplot( 2, 2, 4 )\n",
    "sns.boxplot( y='Tempo_de_empresa', data=num_data )"
   ]
  },
  {
   "cell_type": "markdown",
   "id": "951529af",
   "metadata": {},
   "source": [
    "### 2.3.2. Análise Bivariada"
   ]
  },
  {
   "cell_type": "markdown",
   "id": "60958695",
   "metadata": {},
   "source": [
    "#### 2.3.2.1. Objetivo x Variáveis qualitativas"
   ]
  },
  {
   "cell_type": "markdown",
   "id": "5ef71eca",
   "metadata": {},
   "source": [
    "\n",
    "* Funcionário_deixou_a_empresa x Frequência de Viagens"
   ]
  },
  {
   "cell_type": "code",
   "execution_count": 18,
   "id": "4df507ad",
   "metadata": {
    "scrolled": false
   },
   "outputs": [
    {
     "data": {
      "text/html": [
       "<div>\n",
       "<style scoped>\n",
       "    .dataframe tbody tr th:only-of-type {\n",
       "        vertical-align: middle;\n",
       "    }\n",
       "\n",
       "    .dataframe tbody tr th {\n",
       "        vertical-align: top;\n",
       "    }\n",
       "\n",
       "    .dataframe thead th {\n",
       "        text-align: right;\n",
       "    }\n",
       "</style>\n",
       "<table border=\"1\" class=\"dataframe\">\n",
       "  <thead>\n",
       "    <tr style=\"text-align: right;\">\n",
       "      <th>Funcionário_deixou_a_empresa</th>\n",
       "      <th>Não</th>\n",
       "      <th>Sim</th>\n",
       "      <th>Não_perc</th>\n",
       "      <th>Sim_perc</th>\n",
       "    </tr>\n",
       "    <tr>\n",
       "      <th>Frequência de Viagens</th>\n",
       "      <th></th>\n",
       "      <th></th>\n",
       "      <th></th>\n",
       "      <th></th>\n",
       "    </tr>\n",
       "  </thead>\n",
       "  <tbody>\n",
       "    <tr>\n",
       "      <th>Não viaja</th>\n",
       "      <td>138</td>\n",
       "      <td>12</td>\n",
       "      <td>0.093878</td>\n",
       "      <td>0.008163</td>\n",
       "    </tr>\n",
       "    <tr>\n",
       "      <th>Viaja frequentemente</th>\n",
       "      <td>208</td>\n",
       "      <td>69</td>\n",
       "      <td>0.141497</td>\n",
       "      <td>0.046939</td>\n",
       "    </tr>\n",
       "    <tr>\n",
       "      <th>Viaja raramente</th>\n",
       "      <td>887</td>\n",
       "      <td>156</td>\n",
       "      <td>0.603401</td>\n",
       "      <td>0.106122</td>\n",
       "    </tr>\n",
       "  </tbody>\n",
       "</table>\n",
       "</div>"
      ],
      "text/plain": [
       "Funcionário_deixou_a_empresa  Não  Sim  Não_perc  Sim_perc\n",
       "Frequência de Viagens                                     \n",
       "Não viaja                     138   12  0.093878  0.008163\n",
       "Viaja frequentemente          208   69  0.141497  0.046939\n",
       "Viaja raramente               887  156  0.603401  0.106122"
      ]
     },
     "execution_count": 18,
     "metadata": {},
     "output_type": "execute_result"
    }
   ],
   "source": [
    "#Funcionário_deixou_a_empresa x Frequência de Viagens\n",
    "tab_cont(data,\"Frequência de Viagens\",\"Funcionário_deixou_a_empresa\")"
   ]
  },
  {
   "cell_type": "code",
   "execution_count": 19,
   "id": "0e169fae",
   "metadata": {},
   "outputs": [
    {
     "data": {
      "text/plain": [
       "24.182413685655174"
      ]
     },
     "execution_count": 19,
     "metadata": {},
     "output_type": "execute_result"
    }
   ],
   "source": [
    "qui_quadrado(data,\"Funcionário_deixou_a_empresa\",\"Frequência de Viagens\")"
   ]
  },
  {
   "cell_type": "code",
   "execution_count": 20,
   "id": "f586379f",
   "metadata": {},
   "outputs": [
    {
     "data": {
      "text/html": [
       "<div>\n",
       "<style scoped>\n",
       "    .dataframe tbody tr th:only-of-type {\n",
       "        vertical-align: middle;\n",
       "    }\n",
       "\n",
       "    .dataframe tbody tr th {\n",
       "        vertical-align: top;\n",
       "    }\n",
       "\n",
       "    .dataframe thead th {\n",
       "        text-align: right;\n",
       "    }\n",
       "</style>\n",
       "<table border=\"1\" class=\"dataframe\">\n",
       "  <thead>\n",
       "    <tr style=\"text-align: right;\">\n",
       "      <th></th>\n",
       "      <th>variavel</th>\n",
       "      <th>IV</th>\n",
       "    </tr>\n",
       "  </thead>\n",
       "  <tbody>\n",
       "    <tr>\n",
       "      <th>0</th>\n",
       "      <td>Frequência de Viagens</td>\n",
       "      <td>0.120868</td>\n",
       "    </tr>\n",
       "  </tbody>\n",
       "</table>\n",
       "</div>"
      ],
      "text/plain": [
       "                variavel        IV\n",
       "0  Frequência de Viagens  0.120868"
      ]
     },
     "execution_count": 20,
     "metadata": {},
     "output_type": "execute_result"
    }
   ],
   "source": [
    "iv_df = pd.DataFrame.from_dict( {\"variavel\":[\"Frequência de Viagens\"], \"IV\":[info_value(data,\"Frequência de Viagens\",\"Funcionário_deixou_a_empresa\")[0]]} )\n",
    "iv_df"
   ]
  },
  {
   "cell_type": "code",
   "execution_count": 21,
   "id": "f6eb0b20",
   "metadata": {
    "scrolled": true
   },
   "outputs": [
    {
     "data": {
      "text/html": [
       "<div>\n",
       "<style scoped>\n",
       "    .dataframe tbody tr th:only-of-type {\n",
       "        vertical-align: middle;\n",
       "    }\n",
       "\n",
       "    .dataframe tbody tr th {\n",
       "        vertical-align: top;\n",
       "    }\n",
       "\n",
       "    .dataframe thead th {\n",
       "        text-align: right;\n",
       "    }\n",
       "</style>\n",
       "<table border=\"1\" class=\"dataframe\">\n",
       "  <thead>\n",
       "    <tr style=\"text-align: right;\">\n",
       "      <th></th>\n",
       "      <th>nao</th>\n",
       "      <th>sim</th>\n",
       "      <th>nao_perc</th>\n",
       "      <th>sim_perc</th>\n",
       "      <th>freq</th>\n",
       "      <th>tx_sim</th>\n",
       "      <th>odds</th>\n",
       "      <th>ln_odds</th>\n",
       "      <th>info_value</th>\n",
       "    </tr>\n",
       "    <tr>\n",
       "      <th>Frequência de Viagens</th>\n",
       "      <th></th>\n",
       "      <th></th>\n",
       "      <th></th>\n",
       "      <th></th>\n",
       "      <th></th>\n",
       "      <th></th>\n",
       "      <th></th>\n",
       "      <th></th>\n",
       "      <th></th>\n",
       "    </tr>\n",
       "  </thead>\n",
       "  <tbody>\n",
       "    <tr>\n",
       "      <th>Não viaja</th>\n",
       "      <td>138</td>\n",
       "      <td>12</td>\n",
       "      <td>0.111922</td>\n",
       "      <td>0.050633</td>\n",
       "      <td>150</td>\n",
       "      <td>0.080000</td>\n",
       "      <td>0.452394</td>\n",
       "      <td>-0.793202</td>\n",
       "      <td>0.048615</td>\n",
       "    </tr>\n",
       "    <tr>\n",
       "      <th>Viaja frequentemente</th>\n",
       "      <td>208</td>\n",
       "      <td>69</td>\n",
       "      <td>0.168694</td>\n",
       "      <td>0.291139</td>\n",
       "      <td>277</td>\n",
       "      <td>0.249097</td>\n",
       "      <td>1.725840</td>\n",
       "      <td>0.545714</td>\n",
       "      <td>0.066820</td>\n",
       "    </tr>\n",
       "    <tr>\n",
       "      <th>Viaja raramente</th>\n",
       "      <td>887</td>\n",
       "      <td>156</td>\n",
       "      <td>0.719384</td>\n",
       "      <td>0.658228</td>\n",
       "      <td>1043</td>\n",
       "      <td>0.149569</td>\n",
       "      <td>0.914989</td>\n",
       "      <td>-0.088844</td>\n",
       "      <td>0.005433</td>\n",
       "    </tr>\n",
       "  </tbody>\n",
       "</table>\n",
       "</div>"
      ],
      "text/plain": [
       "                       nao  sim  nao_perc  sim_perc  freq    tx_sim      odds  \\\n",
       "Frequência de Viagens                                                           \n",
       "Não viaja              138   12  0.111922  0.050633   150  0.080000  0.452394   \n",
       "Viaja frequentemente   208   69  0.168694  0.291139   277  0.249097  1.725840   \n",
       "Viaja raramente        887  156  0.719384  0.658228  1043  0.149569  0.914989   \n",
       "\n",
       "                        ln_odds  info_value  \n",
       "Frequência de Viagens                        \n",
       "Não viaja             -0.793202    0.048615  \n",
       "Viaja frequentemente   0.545714    0.066820  \n",
       "Viaja raramente       -0.088844    0.005433  "
      ]
     },
     "execution_count": 21,
     "metadata": {},
     "output_type": "execute_result"
    }
   ],
   "source": [
    "info_value(data,\"Frequência de Viagens\",\"Funcionário_deixou_a_empresa\", ordem_viagens)[1]"
   ]
  },
  {
   "cell_type": "markdown",
   "id": "069ac9df",
   "metadata": {},
   "source": [
    "<b>CONCLUSÃO:</b> Há uma associação média entre Frequência de Viagens e Funcionário_deixou_a_empresa. \n",
    "Quanto maior a frequência de viagens, maior a chance de turnover."
   ]
  },
  {
   "cell_type": "markdown",
   "id": "e06b95f2",
   "metadata": {},
   "source": [
    "* Funcionário_deixou_a_empresa x Formação"
   ]
  },
  {
   "cell_type": "code",
   "execution_count": 22,
   "id": "bceb9b5e",
   "metadata": {
    "scrolled": true
   },
   "outputs": [
    {
     "data": {
      "text/html": [
       "<div>\n",
       "<style scoped>\n",
       "    .dataframe tbody tr th:only-of-type {\n",
       "        vertical-align: middle;\n",
       "    }\n",
       "\n",
       "    .dataframe tbody tr th {\n",
       "        vertical-align: top;\n",
       "    }\n",
       "\n",
       "    .dataframe thead th {\n",
       "        text-align: right;\n",
       "    }\n",
       "</style>\n",
       "<table border=\"1\" class=\"dataframe\">\n",
       "  <thead>\n",
       "    <tr style=\"text-align: right;\">\n",
       "      <th>Formação</th>\n",
       "      <th>Doutorado</th>\n",
       "      <th>Ensino Médio</th>\n",
       "      <th>Ensino Superior</th>\n",
       "      <th>Ensino Técnico</th>\n",
       "      <th>Mestrado</th>\n",
       "      <th>Doutorado_perc</th>\n",
       "      <th>Ensino Médio_perc</th>\n",
       "      <th>Ensino Superior_perc</th>\n",
       "      <th>Ensino Técnico_perc</th>\n",
       "      <th>Mestrado_perc</th>\n",
       "    </tr>\n",
       "    <tr>\n",
       "      <th>Funcionário_deixou_a_empresa</th>\n",
       "      <th></th>\n",
       "      <th></th>\n",
       "      <th></th>\n",
       "      <th></th>\n",
       "      <th></th>\n",
       "      <th></th>\n",
       "      <th></th>\n",
       "      <th></th>\n",
       "      <th></th>\n",
       "      <th></th>\n",
       "    </tr>\n",
       "  </thead>\n",
       "  <tbody>\n",
       "    <tr>\n",
       "      <th>Não</th>\n",
       "      <td>43</td>\n",
       "      <td>139</td>\n",
       "      <td>473</td>\n",
       "      <td>238</td>\n",
       "      <td>340</td>\n",
       "      <td>0.029252</td>\n",
       "      <td>0.094558</td>\n",
       "      <td>0.321769</td>\n",
       "      <td>0.161905</td>\n",
       "      <td>0.231293</td>\n",
       "    </tr>\n",
       "    <tr>\n",
       "      <th>Sim</th>\n",
       "      <td>5</td>\n",
       "      <td>31</td>\n",
       "      <td>99</td>\n",
       "      <td>44</td>\n",
       "      <td>58</td>\n",
       "      <td>0.003401</td>\n",
       "      <td>0.021088</td>\n",
       "      <td>0.067347</td>\n",
       "      <td>0.029932</td>\n",
       "      <td>0.039456</td>\n",
       "    </tr>\n",
       "  </tbody>\n",
       "</table>\n",
       "</div>"
      ],
      "text/plain": [
       "Formação                      Doutorado  Ensino Médio  Ensino Superior  \\\n",
       "Funcionário_deixou_a_empresa                                             \n",
       "Não                                  43           139              473   \n",
       "Sim                                   5            31               99   \n",
       "\n",
       "Formação                      Ensino Técnico  Mestrado  Doutorado_perc  \\\n",
       "Funcionário_deixou_a_empresa                                             \n",
       "Não                                      238       340        0.029252   \n",
       "Sim                                       44        58        0.003401   \n",
       "\n",
       "Formação                      Ensino Médio_perc  Ensino Superior_perc  \\\n",
       "Funcionário_deixou_a_empresa                                            \n",
       "Não                                    0.094558              0.321769   \n",
       "Sim                                    0.021088              0.067347   \n",
       "\n",
       "Formação                      Ensino Técnico_perc  Mestrado_perc  \n",
       "Funcionário_deixou_a_empresa                                      \n",
       "Não                                      0.161905       0.231293  \n",
       "Sim                                      0.029932       0.039456  "
      ]
     },
     "execution_count": 22,
     "metadata": {},
     "output_type": "execute_result"
    }
   ],
   "source": [
    "tab_cont(data,\"Funcionário_deixou_a_empresa\",\"Formação\")"
   ]
  },
  {
   "cell_type": "code",
   "execution_count": 23,
   "id": "6e0c1db9",
   "metadata": {},
   "outputs": [
    {
     "data": {
      "text/plain": [
       "3.0739613982367193"
      ]
     },
     "execution_count": 23,
     "metadata": {},
     "output_type": "execute_result"
    }
   ],
   "source": [
    "qui_quadrado(data,\"Funcionário_deixou_a_empresa\",\"Formação\")"
   ]
  },
  {
   "cell_type": "code",
   "execution_count": 24,
   "id": "8dc1df21",
   "metadata": {},
   "outputs": [
    {
     "data": {
      "text/html": [
       "<div>\n",
       "<style scoped>\n",
       "    .dataframe tbody tr th:only-of-type {\n",
       "        vertical-align: middle;\n",
       "    }\n",
       "\n",
       "    .dataframe tbody tr th {\n",
       "        vertical-align: top;\n",
       "    }\n",
       "\n",
       "    .dataframe thead th {\n",
       "        text-align: right;\n",
       "    }\n",
       "</style>\n",
       "<table border=\"1\" class=\"dataframe\">\n",
       "  <thead>\n",
       "    <tr style=\"text-align: right;\">\n",
       "      <th></th>\n",
       "      <th>variavel</th>\n",
       "      <th>IV</th>\n",
       "    </tr>\n",
       "  </thead>\n",
       "  <tbody>\n",
       "    <tr>\n",
       "      <th>0</th>\n",
       "      <td>Frequência de Viagens</td>\n",
       "      <td>0.120868</td>\n",
       "    </tr>\n",
       "    <tr>\n",
       "      <th>0</th>\n",
       "      <td>Formação</td>\n",
       "      <td>0.016505</td>\n",
       "    </tr>\n",
       "  </tbody>\n",
       "</table>\n",
       "</div>"
      ],
      "text/plain": [
       "                variavel        IV\n",
       "0  Frequência de Viagens  0.120868\n",
       "0               Formação  0.016505"
      ]
     },
     "execution_count": 24,
     "metadata": {},
     "output_type": "execute_result"
    }
   ],
   "source": [
    "df1 = pd.DataFrame.from_dict( {\"variavel\":[\"Formação\"], \"IV\":[info_value(data,\"Formação\",\"Funcionário_deixou_a_empresa\")[0]]} )\n",
    "iv_df = iv_df.append(df1)\n",
    "iv_df"
   ]
  },
  {
   "cell_type": "markdown",
   "id": "2ea96009",
   "metadata": {},
   "source": [
    "<b>CONCLUSÃO:</b> A associação entre Formação e Funcionário_deixou_a_empresa é muito fraca."
   ]
  },
  {
   "cell_type": "markdown",
   "id": "8fd5496b",
   "metadata": {},
   "source": [
    "* Funcionário_deixou_a_empresa x E-sat"
   ]
  },
  {
   "cell_type": "code",
   "execution_count": 25,
   "id": "d5748a7f",
   "metadata": {},
   "outputs": [
    {
     "data": {
      "text/html": [
       "<div>\n",
       "<style scoped>\n",
       "    .dataframe tbody tr th:only-of-type {\n",
       "        vertical-align: middle;\n",
       "    }\n",
       "\n",
       "    .dataframe tbody tr th {\n",
       "        vertical-align: top;\n",
       "    }\n",
       "\n",
       "    .dataframe thead th {\n",
       "        text-align: right;\n",
       "    }\n",
       "</style>\n",
       "<table border=\"1\" class=\"dataframe\">\n",
       "  <thead>\n",
       "    <tr style=\"text-align: right;\">\n",
       "      <th>E-Sat</th>\n",
       "      <th>Alto</th>\n",
       "      <th>Baixo</th>\n",
       "      <th>Muito Alto</th>\n",
       "      <th>Médio</th>\n",
       "      <th>Alto_perc</th>\n",
       "      <th>Baixo_perc</th>\n",
       "      <th>Muito Alto_perc</th>\n",
       "      <th>Médio_perc</th>\n",
       "    </tr>\n",
       "    <tr>\n",
       "      <th>Funcionário_deixou_a_empresa</th>\n",
       "      <th></th>\n",
       "      <th></th>\n",
       "      <th></th>\n",
       "      <th></th>\n",
       "      <th></th>\n",
       "      <th></th>\n",
       "      <th></th>\n",
       "      <th></th>\n",
       "    </tr>\n",
       "  </thead>\n",
       "  <tbody>\n",
       "    <tr>\n",
       "      <th>Não</th>\n",
       "      <td>391</td>\n",
       "      <td>212</td>\n",
       "      <td>386</td>\n",
       "      <td>244</td>\n",
       "      <td>0.265986</td>\n",
       "      <td>0.144218</td>\n",
       "      <td>0.262585</td>\n",
       "      <td>0.165986</td>\n",
       "    </tr>\n",
       "    <tr>\n",
       "      <th>Sim</th>\n",
       "      <td>62</td>\n",
       "      <td>72</td>\n",
       "      <td>60</td>\n",
       "      <td>43</td>\n",
       "      <td>0.042177</td>\n",
       "      <td>0.048980</td>\n",
       "      <td>0.040816</td>\n",
       "      <td>0.029252</td>\n",
       "    </tr>\n",
       "  </tbody>\n",
       "</table>\n",
       "</div>"
      ],
      "text/plain": [
       "E-Sat                         Alto  Baixo  Muito Alto  Médio  Alto_perc  \\\n",
       "Funcionário_deixou_a_empresa                                              \n",
       "Não                            391    212         386    244   0.265986   \n",
       "Sim                             62     72          60     43   0.042177   \n",
       "\n",
       "E-Sat                         Baixo_perc  Muito Alto_perc  Médio_perc  \n",
       "Funcionário_deixou_a_empresa                                           \n",
       "Não                             0.144218         0.262585    0.165986  \n",
       "Sim                             0.048980         0.040816    0.029252  "
      ]
     },
     "execution_count": 25,
     "metadata": {},
     "output_type": "execute_result"
    }
   ],
   "source": [
    "tab_cont(data,\"Funcionário_deixou_a_empresa\",\"E-Sat\")"
   ]
  },
  {
   "cell_type": "code",
   "execution_count": 26,
   "id": "bdd65749",
   "metadata": {},
   "outputs": [
    {
     "data": {
      "text/plain": [
       "22.503881435842295"
      ]
     },
     "execution_count": 26,
     "metadata": {},
     "output_type": "execute_result"
    }
   ],
   "source": [
    "qui_quadrado(data,\"Funcionário_deixou_a_empresa\",\"E-Sat\")"
   ]
  },
  {
   "cell_type": "code",
   "execution_count": 27,
   "id": "858d6e25",
   "metadata": {},
   "outputs": [
    {
     "data": {
      "text/html": [
       "<div>\n",
       "<style scoped>\n",
       "    .dataframe tbody tr th:only-of-type {\n",
       "        vertical-align: middle;\n",
       "    }\n",
       "\n",
       "    .dataframe tbody tr th {\n",
       "        vertical-align: top;\n",
       "    }\n",
       "\n",
       "    .dataframe thead th {\n",
       "        text-align: right;\n",
       "    }\n",
       "</style>\n",
       "<table border=\"1\" class=\"dataframe\">\n",
       "  <thead>\n",
       "    <tr style=\"text-align: right;\">\n",
       "      <th></th>\n",
       "      <th>variavel</th>\n",
       "      <th>IV</th>\n",
       "    </tr>\n",
       "  </thead>\n",
       "  <tbody>\n",
       "    <tr>\n",
       "      <th>0</th>\n",
       "      <td>Frequência de Viagens</td>\n",
       "      <td>0.120868</td>\n",
       "    </tr>\n",
       "    <tr>\n",
       "      <th>0</th>\n",
       "      <td>Formação</td>\n",
       "      <td>0.016505</td>\n",
       "    </tr>\n",
       "    <tr>\n",
       "      <th>0</th>\n",
       "      <td>E-Sat</td>\n",
       "      <td>0.099886</td>\n",
       "    </tr>\n",
       "  </tbody>\n",
       "</table>\n",
       "</div>"
      ],
      "text/plain": [
       "                variavel        IV\n",
       "0  Frequência de Viagens  0.120868\n",
       "0               Formação  0.016505\n",
       "0                  E-Sat  0.099886"
      ]
     },
     "execution_count": 27,
     "metadata": {},
     "output_type": "execute_result"
    }
   ],
   "source": [
    "df1 = pd.DataFrame.from_dict( {\"variavel\":[\"E-Sat\"], \"IV\":[info_value(data,\"E-Sat\",\"Funcionário_deixou_a_empresa\")[0]]} )\n",
    "iv_df = iv_df.append(df1)\n",
    "iv_df"
   ]
  },
  {
   "cell_type": "markdown",
   "id": "ab9867df",
   "metadata": {},
   "source": [
    "<b>CONCLUSÃO:</b> A associação entre E-Sat e Funcionário_deixou_a_empresa é fraca."
   ]
  },
  {
   "cell_type": "markdown",
   "id": "88736573",
   "metadata": {},
   "source": [
    "* Funcionário_deixou_a_empresa x Gênero"
   ]
  },
  {
   "cell_type": "code",
   "execution_count": 28,
   "id": "a3828ce4",
   "metadata": {},
   "outputs": [
    {
     "data": {
      "text/html": [
       "<div>\n",
       "<style scoped>\n",
       "    .dataframe tbody tr th:only-of-type {\n",
       "        vertical-align: middle;\n",
       "    }\n",
       "\n",
       "    .dataframe tbody tr th {\n",
       "        vertical-align: top;\n",
       "    }\n",
       "\n",
       "    .dataframe thead th {\n",
       "        text-align: right;\n",
       "    }\n",
       "</style>\n",
       "<table border=\"1\" class=\"dataframe\">\n",
       "  <thead>\n",
       "    <tr style=\"text-align: right;\">\n",
       "      <th>Gênero</th>\n",
       "      <th>H</th>\n",
       "      <th>M</th>\n",
       "      <th>H_perc</th>\n",
       "      <th>M_perc</th>\n",
       "    </tr>\n",
       "    <tr>\n",
       "      <th>Funcionário_deixou_a_empresa</th>\n",
       "      <th></th>\n",
       "      <th></th>\n",
       "      <th></th>\n",
       "      <th></th>\n",
       "    </tr>\n",
       "  </thead>\n",
       "  <tbody>\n",
       "    <tr>\n",
       "      <th>Não</th>\n",
       "      <td>732</td>\n",
       "      <td>501</td>\n",
       "      <td>0.497959</td>\n",
       "      <td>0.340816</td>\n",
       "    </tr>\n",
       "    <tr>\n",
       "      <th>Sim</th>\n",
       "      <td>150</td>\n",
       "      <td>87</td>\n",
       "      <td>0.102041</td>\n",
       "      <td>0.059184</td>\n",
       "    </tr>\n",
       "  </tbody>\n",
       "</table>\n",
       "</div>"
      ],
      "text/plain": [
       "Gênero                          H    M    H_perc    M_perc\n",
       "Funcionário_deixou_a_empresa                              \n",
       "Não                           732  501  0.497959  0.340816\n",
       "Sim                           150   87  0.102041  0.059184"
      ]
     },
     "execution_count": 28,
     "metadata": {},
     "output_type": "execute_result"
    }
   ],
   "source": [
    "tab_cont(data,\"Funcionário_deixou_a_empresa\",\"Gênero\")"
   ]
  },
  {
   "cell_type": "code",
   "execution_count": 29,
   "id": "5da83b21",
   "metadata": {},
   "outputs": [
    {
     "data": {
      "text/html": [
       "<div>\n",
       "<style scoped>\n",
       "    .dataframe tbody tr th:only-of-type {\n",
       "        vertical-align: middle;\n",
       "    }\n",
       "\n",
       "    .dataframe tbody tr th {\n",
       "        vertical-align: top;\n",
       "    }\n",
       "\n",
       "    .dataframe thead th {\n",
       "        text-align: right;\n",
       "    }\n",
       "</style>\n",
       "<table border=\"1\" class=\"dataframe\">\n",
       "  <thead>\n",
       "    <tr style=\"text-align: right;\">\n",
       "      <th></th>\n",
       "      <th>variavel</th>\n",
       "      <th>IV</th>\n",
       "    </tr>\n",
       "  </thead>\n",
       "  <tbody>\n",
       "    <tr>\n",
       "      <th>0</th>\n",
       "      <td>Frequência de Viagens</td>\n",
       "      <td>0.120868</td>\n",
       "    </tr>\n",
       "    <tr>\n",
       "      <th>0</th>\n",
       "      <td>Formação</td>\n",
       "      <td>0.016505</td>\n",
       "    </tr>\n",
       "    <tr>\n",
       "      <th>0</th>\n",
       "      <td>E-Sat</td>\n",
       "      <td>0.099886</td>\n",
       "    </tr>\n",
       "    <tr>\n",
       "      <th>0</th>\n",
       "      <td>Gênero</td>\n",
       "      <td>0.006496</td>\n",
       "    </tr>\n",
       "  </tbody>\n",
       "</table>\n",
       "</div>"
      ],
      "text/plain": [
       "                variavel        IV\n",
       "0  Frequência de Viagens  0.120868\n",
       "0               Formação  0.016505\n",
       "0                  E-Sat  0.099886\n",
       "0                 Gênero  0.006496"
      ]
     },
     "execution_count": 29,
     "metadata": {},
     "output_type": "execute_result"
    }
   ],
   "source": [
    "df1 = pd.DataFrame.from_dict( {\"variavel\":[\"Gênero\"], \"IV\":[info_value(data,\"Gênero\",\"Funcionário_deixou_a_empresa\")[0]]} )\n",
    "iv_df = iv_df.append(df1)\n",
    "iv_df"
   ]
  },
  {
   "cell_type": "markdown",
   "id": "bbda4e2a",
   "metadata": {},
   "source": [
    "<b>CONCLUSÃO:</b> A associação entre Gênero e Funcionário_deixou_a_empresa é muito fraca."
   ]
  },
  {
   "cell_type": "markdown",
   "id": "47c218f0",
   "metadata": {},
   "source": [
    "* Funcionário_deixou_a_empresa x Estado_Civil"
   ]
  },
  {
   "cell_type": "code",
   "execution_count": 30,
   "id": "e2bff510",
   "metadata": {},
   "outputs": [
    {
     "data": {
      "text/html": [
       "<div>\n",
       "<style scoped>\n",
       "    .dataframe tbody tr th:only-of-type {\n",
       "        vertical-align: middle;\n",
       "    }\n",
       "\n",
       "    .dataframe tbody tr th {\n",
       "        vertical-align: top;\n",
       "    }\n",
       "\n",
       "    .dataframe thead th {\n",
       "        text-align: right;\n",
       "    }\n",
       "</style>\n",
       "<table border=\"1\" class=\"dataframe\">\n",
       "  <thead>\n",
       "    <tr style=\"text-align: right;\">\n",
       "      <th>Estado_Civil</th>\n",
       "      <th>Casado</th>\n",
       "      <th>Divorciado</th>\n",
       "      <th>Solteiro</th>\n",
       "      <th>Casado_perc</th>\n",
       "      <th>Divorciado_perc</th>\n",
       "      <th>Solteiro_perc</th>\n",
       "    </tr>\n",
       "    <tr>\n",
       "      <th>Funcionário_deixou_a_empresa</th>\n",
       "      <th></th>\n",
       "      <th></th>\n",
       "      <th></th>\n",
       "      <th></th>\n",
       "      <th></th>\n",
       "      <th></th>\n",
       "    </tr>\n",
       "  </thead>\n",
       "  <tbody>\n",
       "    <tr>\n",
       "      <th>Não</th>\n",
       "      <td>589</td>\n",
       "      <td>294</td>\n",
       "      <td>350</td>\n",
       "      <td>0.400680</td>\n",
       "      <td>0.200000</td>\n",
       "      <td>0.238095</td>\n",
       "    </tr>\n",
       "    <tr>\n",
       "      <th>Sim</th>\n",
       "      <td>84</td>\n",
       "      <td>33</td>\n",
       "      <td>120</td>\n",
       "      <td>0.057143</td>\n",
       "      <td>0.022449</td>\n",
       "      <td>0.081633</td>\n",
       "    </tr>\n",
       "  </tbody>\n",
       "</table>\n",
       "</div>"
      ],
      "text/plain": [
       "Estado_Civil                  Casado  Divorciado  Solteiro  Casado_perc  \\\n",
       "Funcionário_deixou_a_empresa                                              \n",
       "Não                              589         294       350     0.400680   \n",
       "Sim                               84          33       120     0.057143   \n",
       "\n",
       "Estado_Civil                  Divorciado_perc  Solteiro_perc  \n",
       "Funcionário_deixou_a_empresa                                  \n",
       "Não                                  0.200000       0.238095  \n",
       "Sim                                  0.022449       0.081633  "
      ]
     },
     "execution_count": 30,
     "metadata": {},
     "output_type": "execute_result"
    }
   ],
   "source": [
    "tab_cont(data,\"Funcionário_deixou_a_empresa\",\"Estado_Civil\")"
   ]
  },
  {
   "cell_type": "code",
   "execution_count": 31,
   "id": "f01abc8d",
   "metadata": {},
   "outputs": [
    {
     "data": {
      "text/html": [
       "<div>\n",
       "<style scoped>\n",
       "    .dataframe tbody tr th:only-of-type {\n",
       "        vertical-align: middle;\n",
       "    }\n",
       "\n",
       "    .dataframe tbody tr th {\n",
       "        vertical-align: top;\n",
       "    }\n",
       "\n",
       "    .dataframe thead th {\n",
       "        text-align: right;\n",
       "    }\n",
       "</style>\n",
       "<table border=\"1\" class=\"dataframe\">\n",
       "  <thead>\n",
       "    <tr style=\"text-align: right;\">\n",
       "      <th></th>\n",
       "      <th>variavel</th>\n",
       "      <th>IV</th>\n",
       "    </tr>\n",
       "  </thead>\n",
       "  <tbody>\n",
       "    <tr>\n",
       "      <th>0</th>\n",
       "      <td>Frequência de Viagens</td>\n",
       "      <td>0.120868</td>\n",
       "    </tr>\n",
       "    <tr>\n",
       "      <th>0</th>\n",
       "      <td>Formação</td>\n",
       "      <td>0.016505</td>\n",
       "    </tr>\n",
       "    <tr>\n",
       "      <th>0</th>\n",
       "      <td>E-Sat</td>\n",
       "      <td>0.099886</td>\n",
       "    </tr>\n",
       "    <tr>\n",
       "      <th>0</th>\n",
       "      <td>Gênero</td>\n",
       "      <td>0.006496</td>\n",
       "    </tr>\n",
       "    <tr>\n",
       "      <th>0</th>\n",
       "      <td>Estado_Civil</td>\n",
       "      <td>0.218898</td>\n",
       "    </tr>\n",
       "  </tbody>\n",
       "</table>\n",
       "</div>"
      ],
      "text/plain": [
       "                variavel        IV\n",
       "0  Frequência de Viagens  0.120868\n",
       "0               Formação  0.016505\n",
       "0                  E-Sat  0.099886\n",
       "0                 Gênero  0.006496\n",
       "0           Estado_Civil  0.218898"
      ]
     },
     "execution_count": 31,
     "metadata": {},
     "output_type": "execute_result"
    }
   ],
   "source": [
    "df1 = pd.DataFrame.from_dict( {\"variavel\":[\"Estado_Civil\"], \"IV\":[info_value(data,\"Estado_Civil\",\"Funcionário_deixou_a_empresa\")[0]]} )\n",
    "iv_df = iv_df.append(df1)\n",
    "iv_df"
   ]
  },
  {
   "cell_type": "code",
   "execution_count": 32,
   "id": "161c9896",
   "metadata": {},
   "outputs": [
    {
     "data": {
      "text/html": [
       "<div>\n",
       "<style scoped>\n",
       "    .dataframe tbody tr th:only-of-type {\n",
       "        vertical-align: middle;\n",
       "    }\n",
       "\n",
       "    .dataframe tbody tr th {\n",
       "        vertical-align: top;\n",
       "    }\n",
       "\n",
       "    .dataframe thead th {\n",
       "        text-align: right;\n",
       "    }\n",
       "</style>\n",
       "<table border=\"1\" class=\"dataframe\">\n",
       "  <thead>\n",
       "    <tr style=\"text-align: right;\">\n",
       "      <th></th>\n",
       "      <th>nao</th>\n",
       "      <th>sim</th>\n",
       "      <th>nao_perc</th>\n",
       "      <th>sim_perc</th>\n",
       "      <th>freq</th>\n",
       "      <th>tx_sim</th>\n",
       "      <th>odds</th>\n",
       "      <th>ln_odds</th>\n",
       "      <th>info_value</th>\n",
       "    </tr>\n",
       "    <tr>\n",
       "      <th>Estado_Civil</th>\n",
       "      <th></th>\n",
       "      <th></th>\n",
       "      <th></th>\n",
       "      <th></th>\n",
       "      <th></th>\n",
       "      <th></th>\n",
       "      <th></th>\n",
       "      <th></th>\n",
       "      <th></th>\n",
       "    </tr>\n",
       "  </thead>\n",
       "  <tbody>\n",
       "    <tr>\n",
       "      <th>Casado</th>\n",
       "      <td>589</td>\n",
       "      <td>84</td>\n",
       "      <td>0.477697</td>\n",
       "      <td>0.354430</td>\n",
       "      <td>673</td>\n",
       "      <td>0.124814</td>\n",
       "      <td>0.741957</td>\n",
       "      <td>-0.298464</td>\n",
       "      <td>0.036791</td>\n",
       "    </tr>\n",
       "    <tr>\n",
       "      <th>Divorciado</th>\n",
       "      <td>294</td>\n",
       "      <td>33</td>\n",
       "      <td>0.238443</td>\n",
       "      <td>0.139241</td>\n",
       "      <td>327</td>\n",
       "      <td>0.100917</td>\n",
       "      <td>0.583958</td>\n",
       "      <td>-0.537927</td>\n",
       "      <td>0.053364</td>\n",
       "    </tr>\n",
       "    <tr>\n",
       "      <th>Solteiro</th>\n",
       "      <td>350</td>\n",
       "      <td>120</td>\n",
       "      <td>0.283861</td>\n",
       "      <td>0.506329</td>\n",
       "      <td>470</td>\n",
       "      <td>0.255319</td>\n",
       "      <td>1.783725</td>\n",
       "      <td>0.578704</td>\n",
       "      <td>0.128743</td>\n",
       "    </tr>\n",
       "  </tbody>\n",
       "</table>\n",
       "</div>"
      ],
      "text/plain": [
       "              nao  sim  nao_perc  sim_perc  freq    tx_sim      odds  \\\n",
       "Estado_Civil                                                           \n",
       "Casado        589   84  0.477697  0.354430   673  0.124814  0.741957   \n",
       "Divorciado    294   33  0.238443  0.139241   327  0.100917  0.583958   \n",
       "Solteiro      350  120  0.283861  0.506329   470  0.255319  1.783725   \n",
       "\n",
       "               ln_odds  info_value  \n",
       "Estado_Civil                        \n",
       "Casado       -0.298464    0.036791  \n",
       "Divorciado   -0.537927    0.053364  \n",
       "Solteiro      0.578704    0.128743  "
      ]
     },
     "execution_count": 32,
     "metadata": {},
     "output_type": "execute_result"
    }
   ],
   "source": [
    "info_value(data,\"Estado_Civil\",\"Funcionário_deixou_a_empresa\")[1]"
   ]
  },
  {
   "cell_type": "markdown",
   "id": "2e53a976",
   "metadata": {},
   "source": [
    "<b>CONCLUSÃO:</b> A associação entre Estado_Civil e Funcionário_deixou_a_empresa é média.\n",
    "A chance de solteiros pedirem demissão é maior."
   ]
  },
  {
   "cell_type": "markdown",
   "id": "241d25fb",
   "metadata": {},
   "source": [
    "* Funcionário_deixou_a_empresa x Faz_hora_extras?"
   ]
  },
  {
   "cell_type": "code",
   "execution_count": 33,
   "id": "a2046039",
   "metadata": {},
   "outputs": [
    {
     "data": {
      "text/html": [
       "<div>\n",
       "<style scoped>\n",
       "    .dataframe tbody tr th:only-of-type {\n",
       "        vertical-align: middle;\n",
       "    }\n",
       "\n",
       "    .dataframe tbody tr th {\n",
       "        vertical-align: top;\n",
       "    }\n",
       "\n",
       "    .dataframe thead th {\n",
       "        text-align: right;\n",
       "    }\n",
       "</style>\n",
       "<table border=\"1\" class=\"dataframe\">\n",
       "  <thead>\n",
       "    <tr style=\"text-align: right;\">\n",
       "      <th>Faz_hora_extras?</th>\n",
       "      <th>Não</th>\n",
       "      <th>Sim</th>\n",
       "      <th>Não_perc</th>\n",
       "      <th>Sim_perc</th>\n",
       "    </tr>\n",
       "    <tr>\n",
       "      <th>Funcionário_deixou_a_empresa</th>\n",
       "      <th></th>\n",
       "      <th></th>\n",
       "      <th></th>\n",
       "      <th></th>\n",
       "    </tr>\n",
       "  </thead>\n",
       "  <tbody>\n",
       "    <tr>\n",
       "      <th>Não</th>\n",
       "      <td>944</td>\n",
       "      <td>289</td>\n",
       "      <td>0.642177</td>\n",
       "      <td>0.196599</td>\n",
       "    </tr>\n",
       "    <tr>\n",
       "      <th>Sim</th>\n",
       "      <td>110</td>\n",
       "      <td>127</td>\n",
       "      <td>0.074830</td>\n",
       "      <td>0.086395</td>\n",
       "    </tr>\n",
       "  </tbody>\n",
       "</table>\n",
       "</div>"
      ],
      "text/plain": [
       "Faz_hora_extras?              Não  Sim  Não_perc  Sim_perc\n",
       "Funcionário_deixou_a_empresa                              \n",
       "Não                           944  289  0.642177  0.196599\n",
       "Sim                           110  127  0.074830  0.086395"
      ]
     },
     "execution_count": 33,
     "metadata": {},
     "output_type": "execute_result"
    }
   ],
   "source": [
    "tab_cont(data,\"Funcionário_deixou_a_empresa\",\"Faz_hora_extras?\")"
   ]
  },
  {
   "cell_type": "code",
   "execution_count": 34,
   "id": "c2bbb3fc",
   "metadata": {},
   "outputs": [
    {
     "data": {
      "text/html": [
       "<div>\n",
       "<style scoped>\n",
       "    .dataframe tbody tr th:only-of-type {\n",
       "        vertical-align: middle;\n",
       "    }\n",
       "\n",
       "    .dataframe tbody tr th {\n",
       "        vertical-align: top;\n",
       "    }\n",
       "\n",
       "    .dataframe thead th {\n",
       "        text-align: right;\n",
       "    }\n",
       "</style>\n",
       "<table border=\"1\" class=\"dataframe\">\n",
       "  <thead>\n",
       "    <tr style=\"text-align: right;\">\n",
       "      <th></th>\n",
       "      <th>variavel</th>\n",
       "      <th>IV</th>\n",
       "    </tr>\n",
       "  </thead>\n",
       "  <tbody>\n",
       "    <tr>\n",
       "      <th>0</th>\n",
       "      <td>Frequência de Viagens</td>\n",
       "      <td>0.120868</td>\n",
       "    </tr>\n",
       "    <tr>\n",
       "      <th>0</th>\n",
       "      <td>Formação</td>\n",
       "      <td>0.016505</td>\n",
       "    </tr>\n",
       "    <tr>\n",
       "      <th>0</th>\n",
       "      <td>E-Sat</td>\n",
       "      <td>0.099886</td>\n",
       "    </tr>\n",
       "    <tr>\n",
       "      <th>0</th>\n",
       "      <td>Gênero</td>\n",
       "      <td>0.006496</td>\n",
       "    </tr>\n",
       "    <tr>\n",
       "      <th>0</th>\n",
       "      <td>Estado_Civil</td>\n",
       "      <td>0.218898</td>\n",
       "    </tr>\n",
       "    <tr>\n",
       "      <th>0</th>\n",
       "      <td>Faz_hora_extras?</td>\n",
       "      <td>0.400183</td>\n",
       "    </tr>\n",
       "  </tbody>\n",
       "</table>\n",
       "</div>"
      ],
      "text/plain": [
       "                variavel        IV\n",
       "0  Frequência de Viagens  0.120868\n",
       "0               Formação  0.016505\n",
       "0                  E-Sat  0.099886\n",
       "0                 Gênero  0.006496\n",
       "0           Estado_Civil  0.218898\n",
       "0       Faz_hora_extras?  0.400183"
      ]
     },
     "execution_count": 34,
     "metadata": {},
     "output_type": "execute_result"
    }
   ],
   "source": [
    "info_value(data,\"Faz_hora_extras?\",\"Funcionário_deixou_a_empresa\")[0]\n",
    "df1 = pd.DataFrame.from_dict( {\"variavel\":[\"Faz_hora_extras?\"], \"IV\":[info_value(data,\"Faz_hora_extras?\",\"Funcionário_deixou_a_empresa\")[0]]} )\n",
    "iv_df = iv_df.append(df1)\n",
    "iv_df"
   ]
  },
  {
   "cell_type": "code",
   "execution_count": 35,
   "id": "00958767",
   "metadata": {},
   "outputs": [
    {
     "data": {
      "text/html": [
       "<div>\n",
       "<style scoped>\n",
       "    .dataframe tbody tr th:only-of-type {\n",
       "        vertical-align: middle;\n",
       "    }\n",
       "\n",
       "    .dataframe tbody tr th {\n",
       "        vertical-align: top;\n",
       "    }\n",
       "\n",
       "    .dataframe thead th {\n",
       "        text-align: right;\n",
       "    }\n",
       "</style>\n",
       "<table border=\"1\" class=\"dataframe\">\n",
       "  <thead>\n",
       "    <tr style=\"text-align: right;\">\n",
       "      <th></th>\n",
       "      <th>nao</th>\n",
       "      <th>sim</th>\n",
       "      <th>nao_perc</th>\n",
       "      <th>sim_perc</th>\n",
       "      <th>freq</th>\n",
       "      <th>tx_sim</th>\n",
       "      <th>odds</th>\n",
       "      <th>ln_odds</th>\n",
       "      <th>info_value</th>\n",
       "    </tr>\n",
       "    <tr>\n",
       "      <th>Faz_hora_extras?</th>\n",
       "      <th></th>\n",
       "      <th></th>\n",
       "      <th></th>\n",
       "      <th></th>\n",
       "      <th></th>\n",
       "      <th></th>\n",
       "      <th></th>\n",
       "      <th></th>\n",
       "      <th></th>\n",
       "    </tr>\n",
       "  </thead>\n",
       "  <tbody>\n",
       "    <tr>\n",
       "      <th>Não</th>\n",
       "      <td>944</td>\n",
       "      <td>110</td>\n",
       "      <td>0.765612</td>\n",
       "      <td>0.464135</td>\n",
       "      <td>1054</td>\n",
       "      <td>0.104364</td>\n",
       "      <td>0.606227</td>\n",
       "      <td>-0.500500</td>\n",
       "      <td>0.150890</td>\n",
       "    </tr>\n",
       "    <tr>\n",
       "      <th>Sim</th>\n",
       "      <td>289</td>\n",
       "      <td>127</td>\n",
       "      <td>0.234388</td>\n",
       "      <td>0.535865</td>\n",
       "      <td>416</td>\n",
       "      <td>0.305288</td>\n",
       "      <td>2.286234</td>\n",
       "      <td>0.826906</td>\n",
       "      <td>0.249293</td>\n",
       "    </tr>\n",
       "  </tbody>\n",
       "</table>\n",
       "</div>"
      ],
      "text/plain": [
       "                  nao  sim  nao_perc  sim_perc  freq    tx_sim      odds  \\\n",
       "Faz_hora_extras?                                                           \n",
       "Não               944  110  0.765612  0.464135  1054  0.104364  0.606227   \n",
       "Sim               289  127  0.234388  0.535865   416  0.305288  2.286234   \n",
       "\n",
       "                   ln_odds  info_value  \n",
       "Faz_hora_extras?                        \n",
       "Não              -0.500500    0.150890  \n",
       "Sim               0.826906    0.249293  "
      ]
     },
     "execution_count": 35,
     "metadata": {},
     "output_type": "execute_result"
    }
   ],
   "source": [
    "info_value(data,\"Faz_hora_extras?\",\"Funcionário_deixou_a_empresa\")[1]"
   ]
  },
  {
   "cell_type": "markdown",
   "id": "3d711a64",
   "metadata": {},
   "source": [
    "<b>CONCLUSÃO:</b> A associação entre Faz_hora_extras e Funcionário_deixou_a_empresa é forte.\n",
    "Quem faz hora extra é mais provável pedi demissão."
   ]
  },
  {
   "cell_type": "markdown",
   "id": "ca5a485e",
   "metadata": {},
   "source": [
    "#### 2.3.2.2. Objetivo x Variáveis quantitativas"
   ]
  },
  {
   "cell_type": "markdown",
   "id": "157ff1f8",
   "metadata": {},
   "source": [
    "* Funcionário_deixou_a_empresa x Idade"
   ]
  },
  {
   "cell_type": "code",
   "execution_count": 36,
   "id": "22d27611",
   "metadata": {
    "scrolled": true
   },
   "outputs": [
    {
     "data": {
      "text/plain": [
       "<AxesSubplot:xlabel='Funcionário_deixou_a_empresa', ylabel='Idade'>"
      ]
     },
     "execution_count": 36,
     "metadata": {},
     "output_type": "execute_result"
    },
    {
     "data": {
      "image/png": "[encoded data removed]",
      "text/plain": [
       "<Figure size 432x288 with 1 Axes>"
      ]
     },
     "metadata": {
      "needs_background": "light"
     },
     "output_type": "display_data"
    }
   ],
   "source": [
    "sns.boxplot( x = \"Funcionário_deixou_a_empresa\", y = \"Idade\", data = data)"
   ]
  },
  {
   "cell_type": "code",
   "execution_count": 37,
   "id": "d8f27538",
   "metadata": {},
   "outputs": [
    {
     "data": {
      "text/plain": [
       "0.14149311914192386"
      ]
     },
     "execution_count": 37,
     "metadata": {},
     "output_type": "execute_result"
    }
   ],
   "source": [
    "r_quad(data,\"Funcionário_deixou_a_empresa\", \"Idade\")"
   ]
  },
  {
   "cell_type": "code",
   "execution_count": 38,
   "id": "9b9fa2c9",
   "metadata": {},
   "outputs": [
    {
     "data": {
      "text/html": [
       "<div>\n",
       "<style scoped>\n",
       "    .dataframe tbody tr th:only-of-type {\n",
       "        vertical-align: middle;\n",
       "    }\n",
       "\n",
       "    .dataframe tbody tr th {\n",
       "        vertical-align: top;\n",
       "    }\n",
       "\n",
       "    .dataframe thead th {\n",
       "        text-align: right;\n",
       "    }\n",
       "</style>\n",
       "<table border=\"1\" class=\"dataframe\">\n",
       "  <thead>\n",
       "    <tr style=\"text-align: right;\">\n",
       "      <th></th>\n",
       "      <th>nao</th>\n",
       "      <th>sim</th>\n",
       "      <th>nao_perc</th>\n",
       "      <th>sim_perc</th>\n",
       "      <th>freq</th>\n",
       "      <th>tx_sim</th>\n",
       "      <th>odds</th>\n",
       "      <th>ln_odds</th>\n",
       "      <th>info_value</th>\n",
       "    </tr>\n",
       "    <tr>\n",
       "      <th>fx_idade</th>\n",
       "      <th></th>\n",
       "      <th></th>\n",
       "      <th></th>\n",
       "      <th></th>\n",
       "      <th></th>\n",
       "      <th></th>\n",
       "      <th></th>\n",
       "      <th></th>\n",
       "      <th></th>\n",
       "    </tr>\n",
       "  </thead>\n",
       "  <tbody>\n",
       "    <tr>\n",
       "      <th>0-24 anos</th>\n",
       "      <td>59</td>\n",
       "      <td>74</td>\n",
       "      <td>0.047851</td>\n",
       "      <td>0.312236</td>\n",
       "      <td>133</td>\n",
       "      <td>0.556391</td>\n",
       "      <td>6.525209</td>\n",
       "      <td>1.875673</td>\n",
       "      <td>0.495901</td>\n",
       "    </tr>\n",
       "    <tr>\n",
       "      <th>25-35 anos</th>\n",
       "      <td>510</td>\n",
       "      <td>126</td>\n",
       "      <td>0.413625</td>\n",
       "      <td>0.531646</td>\n",
       "      <td>636</td>\n",
       "      <td>0.198113</td>\n",
       "      <td>1.285331</td>\n",
       "      <td>0.251017</td>\n",
       "      <td>0.029625</td>\n",
       "    </tr>\n",
       "    <tr>\n",
       "      <th>36-45 anos</th>\n",
       "      <td>425</td>\n",
       "      <td>35</td>\n",
       "      <td>0.344688</td>\n",
       "      <td>0.147679</td>\n",
       "      <td>460</td>\n",
       "      <td>0.076087</td>\n",
       "      <td>0.428444</td>\n",
       "      <td>-0.847596</td>\n",
       "      <td>0.166984</td>\n",
       "    </tr>\n",
       "    <tr>\n",
       "      <th>acima 45 anos</th>\n",
       "      <td>239</td>\n",
       "      <td>2</td>\n",
       "      <td>0.193836</td>\n",
       "      <td>0.008439</td>\n",
       "      <td>241</td>\n",
       "      <td>0.008299</td>\n",
       "      <td>0.043536</td>\n",
       "      <td>-3.134171</td>\n",
       "      <td>0.581067</td>\n",
       "    </tr>\n",
       "  </tbody>\n",
       "</table>\n",
       "</div>"
      ],
      "text/plain": [
       "               nao  sim  nao_perc  sim_perc  freq    tx_sim      odds  \\\n",
       "fx_idade                                                                \n",
       "0-24 anos       59   74  0.047851  0.312236   133  0.556391  6.525209   \n",
       "25-35 anos     510  126  0.413625  0.531646   636  0.198113  1.285331   \n",
       "36-45 anos     425   35  0.344688  0.147679   460  0.076087  0.428444   \n",
       "acima 45 anos  239    2  0.193836  0.008439   241  0.008299  0.043536   \n",
       "\n",
       "                ln_odds  info_value  \n",
       "fx_idade                             \n",
       "0-24 anos      1.875673    0.495901  \n",
       "25-35 anos     0.251017    0.029625  \n",
       "36-45 anos    -0.847596    0.166984  \n",
       "acima 45 anos -3.134171    0.581067  "
      ]
     },
     "execution_count": 38,
     "metadata": {},
     "output_type": "execute_result"
    }
   ],
   "source": [
    "data['fx_idade'] = data['Idade'].apply( lambda x: '0-24 anos' if x<25 else '25-35 anos' if  x<36  else '36-45 anos' if x<46 else 'acima 45 anos' )\n",
    "info_value(data,\"fx_idade\",\"Funcionário_deixou_a_empresa\")[1]"
   ]
  },
  {
   "cell_type": "markdown",
   "id": "9910feb9",
   "metadata": {},
   "source": [
    "<b>CONCLUSÃO:</b> A Idade explica 14% da diferença entre funcionários que saíram ou ficaram na empresa. Quanto mais jovem, maior a chance de deixar a empresa.\n",
    "\n",
    "Uma hipotese é que Idade e Estado_Civil estão relacionados. Vamos testar esta hipotese também."
   ]
  },
  {
   "cell_type": "code",
   "execution_count": 39,
   "id": "fd2cba1d",
   "metadata": {},
   "outputs": [
    {
     "data": {
      "text/plain": [
       "<AxesSubplot:xlabel='Estado_Civil', ylabel='Idade'>"
      ]
     },
     "execution_count": 39,
     "metadata": {},
     "output_type": "execute_result"
    },
    {
     "data": {
      "image/png": "[encoded data removed]",
      "text/plain": [
       "<Figure size 432x288 with 1 Axes>"
      ]
     },
     "metadata": {
      "needs_background": "light"
     },
     "output_type": "display_data"
    }
   ],
   "source": [
    "sns.boxplot( x = \"Estado_Civil\", y = \"Idade\", data = data)"
   ]
  },
  {
   "cell_type": "code",
   "execution_count": 40,
   "id": "1e2dc34a",
   "metadata": {
    "scrolled": true
   },
   "outputs": [
    {
     "data": {
      "text/plain": [
       "0.012998237349271413"
      ]
     },
     "execution_count": 40,
     "metadata": {},
     "output_type": "execute_result"
    }
   ],
   "source": [
    "r_quad(data,\"Estado_Civil\", \"Idade\")"
   ]
  },
  {
   "cell_type": "markdown",
   "id": "b5779788",
   "metadata": {},
   "source": [
    "Não há uma associação evidente entre estado civil e idade."
   ]
  },
  {
   "cell_type": "markdown",
   "id": "c027464c",
   "metadata": {},
   "source": [
    "* Funcionário_deixou_a_empresa x Distância_do_trabalho"
   ]
  },
  {
   "cell_type": "code",
   "execution_count": 41,
   "id": "6c910db5",
   "metadata": {
    "scrolled": false
   },
   "outputs": [
    {
     "data": {
      "text/plain": [
       "<AxesSubplot:xlabel='Funcionário_deixou_a_empresa', ylabel='Distância_do_trabalho'>"
      ]
     },
     "execution_count": 41,
     "metadata": {},
     "output_type": "execute_result"
    },
    {
     "data": {
      "image/png": "[encoded data removed]",
      "text/plain": [
       "<Figure size 432x288 with 1 Axes>"
      ]
     },
     "metadata": {
      "needs_background": "light"
     },
     "output_type": "display_data"
    }
   ],
   "source": [
    "sns.boxplot( x = \"Funcionário_deixou_a_empresa\", y = \"Distância_do_trabalho\", data = data)"
   ]
  },
  {
   "cell_type": "code",
   "execution_count": 42,
   "id": "3c0f99bc",
   "metadata": {},
   "outputs": [
    {
     "data": {
      "text/plain": [
       "0.005344156834171221"
      ]
     },
     "execution_count": 42,
     "metadata": {},
     "output_type": "execute_result"
    }
   ],
   "source": [
    "r_quad(data,\"Funcionário_deixou_a_empresa\", \"Distância_do_trabalho\")"
   ]
  },
  {
   "cell_type": "markdown",
   "id": "f9b30263",
   "metadata": {},
   "source": [
    "<b>CONCLUSÃO:</b> A Idade explica 0,5% da diferença entre funcionários que saíram ou ficaram na empresa. "
   ]
  },
  {
   "cell_type": "markdown",
   "id": "a5aee580",
   "metadata": {},
   "source": [
    "* Funcionário_deixou_a_empresa x Salário"
   ]
  },
  {
   "cell_type": "code",
   "execution_count": 43,
   "id": "4fc6adeb",
   "metadata": {
    "scrolled": false
   },
   "outputs": [
    {
     "data": {
      "text/plain": [
       "<AxesSubplot:xlabel='Funcionário_deixou_a_empresa', ylabel='Salário'>"
      ]
     },
     "execution_count": 43,
     "metadata": {},
     "output_type": "execute_result"
    },
    {
     "data": {
      "image/png": "[encoded data removed]",
      "text/plain": [
       "<Figure size 432x288 with 1 Axes>"
      ]
     },
     "metadata": {
      "needs_background": "light"
     },
     "output_type": "display_data"
    }
   ],
   "source": [
    "sns.boxplot( x = \"Funcionário_deixou_a_empresa\", y = \"Salário\", data = data)"
   ]
  },
  {
   "cell_type": "code",
   "execution_count": 44,
   "id": "c49f6d17",
   "metadata": {},
   "outputs": [
    {
     "data": {
      "text/plain": [
       "0.025092380919215618"
      ]
     },
     "execution_count": 44,
     "metadata": {},
     "output_type": "execute_result"
    }
   ],
   "source": [
    "r_quad(data,\"Funcionário_deixou_a_empresa\", \"Salário\")"
   ]
  },
  {
   "cell_type": "markdown",
   "id": "b9abcf92",
   "metadata": {},
   "source": [
    "<b>CONCLUSÃO:</b> A Idade explica 2,5% da diferença entre funcionários que saíram ou ficaram na empresa. "
   ]
  },
  {
   "cell_type": "markdown",
   "id": "1e124272",
   "metadata": {},
   "source": [
    "* Funcionário_deixou_a_empresa x Tempo_de_empresa"
   ]
  },
  {
   "cell_type": "code",
   "execution_count": 45,
   "id": "ab9c1886",
   "metadata": {
    "scrolled": false
   },
   "outputs": [
    {
     "data": {
      "text/plain": [
       "<AxesSubplot:xlabel='Funcionário_deixou_a_empresa', ylabel='Tempo_de_empresa'>"
      ]
     },
     "execution_count": 45,
     "metadata": {},
     "output_type": "execute_result"
    },
    {
     "data": {
      "image/png": "[encoded data removed]",
      "text/plain": [
       "<Figure size 432x288 with 1 Axes>"
      ]
     },
     "metadata": {
      "needs_background": "light"
     },
     "output_type": "display_data"
    }
   ],
   "source": [
    "sns.boxplot( x = \"Funcionário_deixou_a_empresa\", y = \"Tempo_de_empresa\", data = data)"
   ]
  },
  {
   "cell_type": "code",
   "execution_count": 46,
   "id": "5b4d94a2",
   "metadata": {},
   "outputs": [
    {
     "data": {
      "text/plain": [
       "0.017414044972456688"
      ]
     },
     "execution_count": 46,
     "metadata": {},
     "output_type": "execute_result"
    }
   ],
   "source": [
    "r_quad(data,\"Funcionário_deixou_a_empresa\", \"Tempo_de_empresa\")"
   ]
  },
  {
   "cell_type": "markdown",
   "id": "d33be2e0",
   "metadata": {},
   "source": [
    "<b>CONCLUSÃO:</b> A Idade explica 1,7% da diferença entre funcionários que saíram ou ficaram na empresa. "
   ]
  },
  {
   "cell_type": "markdown",
   "id": "f7803be2",
   "metadata": {},
   "source": [
    "# 3. Interpretação para o negócio"
   ]
  },
  {
   "cell_type": "markdown",
   "id": "82ed3e33",
   "metadata": {},
   "source": [
    "## 3.1. Conclusões da análise exploratória"
   ]
  },
  {
   "cell_type": "code",
   "execution_count": 47,
   "id": "b6240a15",
   "metadata": {},
   "outputs": [
    {
     "data": {
      "text/html": [
       "<div>\n",
       "<style scoped>\n",
       "    .dataframe tbody tr th:only-of-type {\n",
       "        vertical-align: middle;\n",
       "    }\n",
       "\n",
       "    .dataframe tbody tr th {\n",
       "        vertical-align: top;\n",
       "    }\n",
       "\n",
       "    .dataframe thead th {\n",
       "        text-align: right;\n",
       "    }\n",
       "</style>\n",
       "<table border=\"1\" class=\"dataframe\">\n",
       "  <thead>\n",
       "    <tr style=\"text-align: right;\">\n",
       "      <th></th>\n",
       "      <th>index</th>\n",
       "      <th>variavel</th>\n",
       "      <th>IV</th>\n",
       "    </tr>\n",
       "  </thead>\n",
       "  <tbody>\n",
       "    <tr>\n",
       "      <th>0</th>\n",
       "      <td>5</td>\n",
       "      <td>Faz_hora_extras?</td>\n",
       "      <td>0.400183</td>\n",
       "    </tr>\n",
       "    <tr>\n",
       "      <th>1</th>\n",
       "      <td>4</td>\n",
       "      <td>Estado_Civil</td>\n",
       "      <td>0.218898</td>\n",
       "    </tr>\n",
       "    <tr>\n",
       "      <th>2</th>\n",
       "      <td>0</td>\n",
       "      <td>Frequência de Viagens</td>\n",
       "      <td>0.120868</td>\n",
       "    </tr>\n",
       "    <tr>\n",
       "      <th>3</th>\n",
       "      <td>2</td>\n",
       "      <td>E-Sat</td>\n",
       "      <td>0.099886</td>\n",
       "    </tr>\n",
       "    <tr>\n",
       "      <th>4</th>\n",
       "      <td>1</td>\n",
       "      <td>Formação</td>\n",
       "      <td>0.016505</td>\n",
       "    </tr>\n",
       "    <tr>\n",
       "      <th>5</th>\n",
       "      <td>3</td>\n",
       "      <td>Gênero</td>\n",
       "      <td>0.006496</td>\n",
       "    </tr>\n",
       "  </tbody>\n",
       "</table>\n",
       "</div>"
      ],
      "text/plain": [
       "   index               variavel        IV\n",
       "0      5       Faz_hora_extras?  0.400183\n",
       "1      4           Estado_Civil  0.218898\n",
       "2      0  Frequência de Viagens  0.120868\n",
       "3      2                  E-Sat  0.099886\n",
       "4      1               Formação  0.016505\n",
       "5      3                 Gênero  0.006496"
      ]
     },
     "execution_count": 47,
     "metadata": {},
     "output_type": "execute_result"
    }
   ],
   "source": [
    "iv_df = iv_df.reset_index()\n",
    "iv_df = iv_df[[\"variavel\",\"IV\"]].sort_values(\"IV\", ascending=False).reset_index()\n",
    "iv_df"
   ]
  },
  {
   "cell_type": "markdown",
   "id": "c5cf19da",
   "metadata": {},
   "source": [
    "Variaveis qualitativas associadas ao turnover: \n",
    "* Faz_hora_extras?\n",
    "* Estado_Civil\n",
    "* Frequência de Viagens"
   ]
  },
  {
   "cell_type": "markdown",
   "id": "1af111e2",
   "metadata": {},
   "source": [
    "Variaveis quantitativas associadas ao turnover:\n",
    "* Idade"
   ]
  },
  {
   "cell_type": "markdown",
   "id": "e9dc8e49",
   "metadata": {},
   "source": [
    "## 3.2. Plano de ação\n",
    "<b>Quais políticas/fatores da empresa deveriam mudar de forma a minimizar o turnover?</b>"
   ]
  },
  {
   "cell_type": "markdown",
   "id": "de6de144",
   "metadata": {},
   "source": [
    "<b> Faz_horas_extras? </b>\n",
    "(Hipotese: quem faz horas extras perde em qualidade de vida ou se sente que trabalha muito e não recebe o valor correspondente\n",
    "| Ação: Reduzir a porcentagem de hora extra)\n",
    "* Contratar mais funcionários (Como a hora extra tem custo superior e os funcionários que fazem hora extra saem da empresa com mais frequência é provável que seja possível reduzir os custos da empresa mesmo aumentando o quadro de funcionários)\n",
    "* Automatizar processos repetitivos para aumentar a eficiência da empresa\n",
    "* Implementar modelo lean em áreas administrativas (assumindo que essa ainda não seja a realidade)\n",
    "* Ter benefícios que auxilie na qualidade de vida (por exemplo: acesso a academias)\n",
    "\n",
    "<b> Estado_Civil </b>\n",
    "(Hipotese: pessoas solteiras estão mais propensas a buscar desafios do que estabilidade | \n",
    "Ação: Aumentar o desafio e benefícios de longo prazo)\n",
    "* Ter metas individuais e definidas de acordo com os objetivos da empresa e pretensões dos funcionários\n",
    "* Ter cultura de meritocracia (remunerar pela performance) \n",
    "\n",
    "<b> Frequência de Viagens </b>\n",
    "(Hipotese: viagens são cansativas e não prazerosas | \n",
    "Ação: diminuir frequência de viagens, melhorar qualidade das viagens)\n",
    "* Reavaliar motivos de viagens e criar sistema misto que permita a interação com partes interessadas através de meios digitais\n",
    "* Garantir tempo de descanso após viagens com mais de 3 dias de duração\n",
    "* Fazer acordo com rede de hoteis para garantir conforto de hospedagem no tempo de viagem\n",
    "* Honrar com as despesas de alimentação e transporte do funcionário durante tempo de viagem \n",
    "* Permitir aos viajantes tempo para turismo em suas viagens\n",
    "\n",
    "<b> Idade </b>\n",
    "(Hipotese: pessoas solteiras estão mais propensas a buscar desafios do que estabilidade | \n",
    "Ação: Aumentar o desafio e benefícios de longo prazo)\n",
    "* Incluir no plano de benefícios atividades que agradem os mais jovens (academia, horário flexível, home office, dress code menos rígido)\n",
    "* Criar áreas de lazer e descanso internas a empresa para tornar o ambiente menos rígido\n",
    "* Criar grupos de discussão para temas ESG (assumindo que hoje os jovens são muito mais motivados pelo propósito)\n",
    "* Traçar planos de carreiras\n",
    "* Ter plano de formação e treinamento estabelecido \n",
    "\n",
    "\n"
   ]
  }
 ],
 "metadata": {
  "kernelspec": {
   "display_name": "Python 3 (ipykernel)",
   "language": "python",
   "name": "python3"
  },
  "language_info": {
   "codemirror_mode": {
    "name": "ipython",
    "version": 3
   },
   "file_extension": ".py",
   "mimetype": "text/x-python",
   "name": "python",
   "nbconvert_exporter": "python",
   "pygments_lexer": "ipython3",
   "version": "3.8.12"
  }
 },
 "nbformat": 4,
 "nbformat_minor": 5
}
